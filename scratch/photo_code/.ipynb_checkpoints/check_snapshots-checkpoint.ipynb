{
 "cells": [
  {
   "cell_type": "markdown",
   "id": "4cfb75e8-62c1-42aa-8356-e4b60349b581",
   "metadata": {},
   "source": [
    "# I may have had an issue with data transfer code, so want to make sure I have the right snapshot in each folder"
   ]
  },
  {
   "cell_type": "markdown",
   "id": "44e57d9d-e752-45a1-8fba-3f004e8612d1",
   "metadata": {},
   "source": [
    "## Imports"
   ]
  },
  {
   "cell_type": "code",
   "execution_count": 31,
   "id": "e3470fcc-fb9c-4964-a67a-4b7c3d4d238b",
   "metadata": {},
   "outputs": [],
   "source": [
    "import os\n",
    "import glob\n",
    "\n",
    "import numpy as np\n",
    "\n",
    "from pathlib import Path\n",
    "from mosquito.transfer_data import vid_filename_to_tstamp, get_abf_tstamp\n"
   ]
  },
  {
   "cell_type": "markdown",
   "id": "04f858b9-1f9f-48eb-a151-9a5ee90cb33b",
   "metadata": {},
   "source": [
    "## Do the check by basically copying transfer data code"
   ]
  },
  {
   "cell_type": "code",
   "execution_count": 2,
   "id": "244b8f96-3e59-42e0-918b-f53417680b0a",
   "metadata": {},
   "outputs": [],
   "source": [
    "# paths to stuff\n",
    "root_path = '/media/sam/SamData/Mosquitoes'\n",
    "snapshot_path = os.path.join(root_path, 'photos', 'all_snapshots')\n"
   ]
  },
  {
   "cell_type": "code",
   "execution_count": 6,
   "id": "f6f248e8-75d1-483c-9532-d21d365784ee",
   "metadata": {},
   "outputs": [],
   "source": [
    "# get expr folders\n",
    "expr_folders = [p for p in os.listdir(root_path) if p.split('_')[0].isdigit()]\n",
    "expr_folders = sorted(expr_folders)\n"
   ]
  },
  {
   "cell_type": "code",
   "execution_count": 11,
   "id": "2f3226d0-77fd-474f-b7e0-9eba52e8006f",
   "metadata": {},
   "outputs": [],
   "source": [
    "# get snapshot file info\n",
    "snapshot_dir = glob.glob(os.path.join(snapshot_path, '*.bmp'))\n",
    "snapshot_fns = [os.path.splitext(os.path.basename(ss))[0] for ss in snapshot_dir]\n",
    "\n",
    "# get timestamps for snapshots\n",
    "snapshot_tstamps = [vid_filename_to_tstamp(fn) for fn in snapshot_fns]\n"
   ]
  },
  {
   "cell_type": "code",
   "execution_count": 39,
   "id": "34a656ae-10d6-486c-abe7-66b4e15b7c29",
   "metadata": {},
   "outputs": [
    {
     "name": "stdout",
     "output_type": "stream",
     "text": [
      "Potential snapshot mismatch in /media/sam/SamData/Mosquitoes/73_20250216/2025_02_16_0006 \n",
      " it should have Camera_2_C001H001S0001_20250216_165239.bmp\n"
     ]
    }
   ],
   "source": [
    "# loop over experiment folders, get axo files\n",
    "for fol in expr_folders[1:]:\n",
    "    # get current axo files\n",
    "    axo_files = glob.glob(os.path.join(root_path, fol, '**', '*.abf'))\n",
    "    axo_files = sorted(axo_files)\n",
    "    # print(axo_files)\n",
    "\n",
    "    # get the times where these were modfied\n",
    "    axo_mod_times = [os.path.getmtime(adm) for adm in axo_files]\n",
    "    # axo_mod_times = [get_abf_tstamp(adm) for adm in axo_files]\n",
    "    \n",
    "    # turn these modification times into bins for sorting snapshots\n",
    "    axo_bins = axo_mod_times.copy()\n",
    "    axo_bins.append(axo_bins[-1] + 1000)  # adding a little padding to get snapshots, etc\n",
    "    \n",
    "    # check in snapshots directory for files that were made in between these axo files being modified (i.e. between trials)\n",
    "    snapshot_abf_ind = np.digitize(np.asarray(snapshot_tstamps), bins=axo_bins) - 1\n",
    "\n",
    "    # loop over axo files\n",
    "    for ith, axo_fn in enumerate(axo_files):\n",
    "        # first get the folder\n",
    "        axo_folder = Path(axo_fn).parent\n",
    "\n",
    "        # see if there are snapshots associated with this folder\n",
    "        curr_snapshot_ind = np.where(snapshot_abf_ind == ith)[0]\n",
    "        for csi in curr_snapshot_ind:\n",
    "            snapshot_src_path = snapshot_dir[csi]\n",
    "            snapshot_fn = Path(snapshot_src_path).name\n",
    "\n",
    "            # check if snapshot file can be found in axo folder\n",
    "            snapshot_check = snapshot_fn in os.listdir(axo_folder)\n",
    "            if not snapshot_check:\n",
    "                print(f'Potential snapshot mismatch in {axo_folder} \\n it should have {snapshot_fn}')\n",
    "    \n"
   ]
  },
  {
   "cell_type": "code",
   "execution_count": 33,
   "id": "e3712c21-92a8-49dc-8654-d8f6a27c9542",
   "metadata": {},
   "outputs": [
    {
     "data": {
      "text/plain": [
       "['01_20240316',\n",
       " '02_20240318',\n",
       " '03_20240319',\n",
       " '04_20240321',\n",
       " '05_20240322',\n",
       " '06_20240326',\n",
       " '07_20240329',\n",
       " '08_20240401',\n",
       " '09_20240415',\n",
       " '10_20240422',\n",
       " '11_20240423',\n",
       " '12_20240425',\n",
       " '13_20240426',\n",
       " '14_20240429',\n",
       " '15_20240503',\n",
       " '16_20240506',\n",
       " '17_20240507',\n",
       " '18_20240508',\n",
       " '19_20240510',\n",
       " '20_20240514',\n",
       " '21_20240515',\n",
       " '22_20240516',\n",
       " '23_20240517',\n",
       " '24_20240520',\n",
       " '25_20240523',\n",
       " '26_20240524',\n",
       " '27_20240528',\n",
       " '28_20240529',\n",
       " '29_20240530',\n",
       " '30_20240610',\n",
       " '31_20240611',\n",
       " '32_20240625',\n",
       " '33_20240626',\n",
       " '34_20240628',\n",
       " '35_20240701',\n",
       " '36_20240702',\n",
       " '37_20240708',\n",
       " '38_20240711',\n",
       " '39_20240712',\n",
       " '40_20240715',\n",
       " '41_20240716',\n",
       " '42_20240717',\n",
       " '43_20240718',\n",
       " '44_20240722',\n",
       " '45_20240723',\n",
       " '46_20240724',\n",
       " '47_20240725',\n",
       " '48_20240813',\n",
       " '49_20240815',\n",
       " '50_20240816',\n",
       " '51_20240918',\n",
       " '52_20240919',\n",
       " '53_20240924',\n",
       " '54_20240926',\n",
       " '55_20241007',\n",
       " '56_20241009',\n",
       " '57_20241016',\n",
       " '58_20241017',\n",
       " '59_20241030',\n",
       " '60_20241031',\n",
       " '61_20241101',\n",
       " '62_20241108',\n",
       " '63_20241111',\n",
       " '64_20241113',\n",
       " '65_20241114',\n",
       " '66_20241115',\n",
       " '67_20250205',\n",
       " '68_20250206',\n",
       " '69_20250207',\n",
       " '70_20250212',\n",
       " '71_20250213',\n",
       " '72_20250214',\n",
       " '73_20250216',\n",
       " '74_20250217',\n",
       " '75_20250221',\n",
       " '76_20250225']"
      ]
     },
     "execution_count": 33,
     "metadata": {},
     "output_type": "execute_result"
    }
   ],
   "source": [
    "\"\"\"\n",
    "Potential snapshot mismatch in /media/sam/SamData/Mosquitoes/73_20250216/2025_02_16_0004 \n",
    " it should have Camera_2_C001H001S0001_20250216_164301.bmp\n",
    "Potential snapshot mismatch in /media/sam/SamData/Mosquitoes/73_20250216/2025_02_16_0005 \n",
    " it should have Camera_2_C001H001S0001_20250216_164744.bmp\n",
    "Potential snapshot mismatch in /media/sam/SamData/Mosquitoes/73_20250216/2025_02_16_0006 \n",
    " it should have Camera_2_C001H001S0001_20250216_165239.bmp\n",
    "\"\"\""
   ]
  },
  {
   "cell_type": "code",
   "execution_count": 21,
   "id": "e8dba3eb-b670-41b1-9e18-1920ed2d45a8",
   "metadata": {},
   "outputs": [
    {
     "data": {
      "text/plain": [
       "'2024_03_18_0000'"
      ]
     },
     "execution_count": 21,
     "metadata": {},
     "output_type": "execute_result"
    }
   ],
   "source": [
    "Path(axo_fn).parent.stem"
   ]
  },
  {
   "cell_type": "code",
   "execution_count": 24,
   "id": "550f3ce7-af3e-4aab-9853-59198f721f95",
   "metadata": {},
   "outputs": [
    {
     "data": {
      "text/plain": [
       "'Camera_2_C001H001S0001_20250225_160238'"
      ]
     },
     "execution_count": 24,
     "metadata": {},
     "output_type": "execute_result"
    }
   ],
   "source": [
    "snapshot_fn"
   ]
  },
  {
   "cell_type": "code",
   "execution_count": null,
   "id": "151ebcd3-679d-484a-b7f7-5cbab48a314b",
   "metadata": {},
   "outputs": [],
   "source": []
  }
 ],
 "metadata": {
  "kernelspec": {
   "display_name": "Python 3 (ipykernel)",
   "language": "python",
   "name": "python3"
  },
  "language_info": {
   "codemirror_mode": {
    "name": "ipython",
    "version": 3
   },
   "file_extension": ".py",
   "mimetype": "text/x-python",
   "name": "python",
   "nbconvert_exporter": "python",
   "pygments_lexer": "ipython3",
   "version": "3.12.5"
  }
 },
 "nbformat": 4,
 "nbformat_minor": 5
}
