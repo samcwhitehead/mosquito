{
 "cells": [
  {
   "cell_type": "markdown",
   "id": "6f49d922-dda4-4f76-a237-20d43b827a8d",
   "metadata": {},
   "source": [
    "# Notebook to make plots of spike detection to check accuracy"
   ]
  },
  {
   "cell_type": "markdown",
   "id": "ada9367e-fee0-4d6b-aac3-267249a17f7b",
   "metadata": {},
   "source": [
    "## Imports"
   ]
  },
  {
   "cell_type": "code",
   "execution_count": 9,
   "id": "3a269914-ae31-4e92-bb18-93f9fe497817",
   "metadata": {},
   "outputs": [],
   "source": [
    "import os \n",
    "import glob\n",
    "import pickle\n",
    "\n",
    "import numpy as np\n",
    "import pandas as pd\n",
    "import matplotlib.pyplot as plt\n",
    "\n",
    "from matplotlib import rcParams\n",
    "from mosquito.process_abf import load_processed_data"
   ]
  },
  {
   "cell_type": "markdown",
   "id": "1a945a50-37b8-496d-ab62-c0360e7c845a",
   "metadata": {},
   "source": [
    "## Params"
   ]
  },
  {
   "cell_type": "code",
   "execution_count": 10,
   "id": "a56f5e2e-7cea-428d-8a45-575dbfbf3c37",
   "metadata": {},
   "outputs": [],
   "source": [
    "# path to data\n",
    "data_root = '/media/sam/SamData/Mosquitoes'\n",
    "save_path ='/home/sam/Desktop/temp_spikes'\n",
    "\n",
    "#folders to check\n",
    "folder_numbers = np.arange(11, 32)\n"
   ]
  },
  {
   "cell_type": "markdown",
   "id": "b09f2975-f53d-494e-a1ba-c77b522adbbd",
   "metadata": {},
   "source": [
    "## Helper functions"
   ]
  },
  {
   "cell_type": "code",
   "execution_count": 11,
   "id": "1e06c248-e0ca-481a-a368-6ed8f71f1a24",
   "metadata": {},
   "outputs": [],
   "source": [
    "def plot_spike_detection(data, trange=(0,10)):\n",
    "    \"\"\"\n",
    "    Convenience function that should make a plot of emg activity + detected spikes\n",
    "    \"\"\"\n",
    "    # read out data\n",
    "    t = data['time']\n",
    "    emg_filt = data['emg_filt']\n",
    "    spike_idx = data['spike_idx']\n",
    "\n",
    "    # define time range\n",
    "    mask = (t >= trange[0]) & (t <= trange[1])\n",
    "    mask_spikes = (t[spike_idx] >= trange[0]) & (t[spike_idx] <= trange[1])\n",
    "    \n",
    "    # make plot\n",
    "    fig, ax = plt.subplots(figsize=(11,4))\n",
    "\n",
    "    ax.plot(t[mask], emg_filt[mask])\n",
    "    ax.plot(t[spike_idx][mask_spikes], emg_filt[spike_idx][mask_spikes], 'rx')\n",
    "\n",
    "    ax.set_xlabel('time (s)')\n",
    "    ax.set_ylabel('emg (V)')\n",
    "    ax.set_xlim(trange)\n",
    "\n",
    "    return fig, ax"
   ]
  },
  {
   "cell_type": "markdown",
   "id": "c473fbfa-df74-4de8-ac6a-c5da42cb71af",
   "metadata": {},
   "source": [
    "## Loop over data files and make plots"
   ]
  },
  {
   "cell_type": "code",
   "execution_count": 12,
   "id": "1f87c807-a0b4-4eb7-ab70-e5b7c2648ef9",
   "metadata": {},
   "outputs": [],
   "source": [
    "# get list of experiment folders\n",
    "expr_folders = sorted([f for f in os.listdir(data_root) if os.path.isdir(os.path.join(data_root, f)) and f[:2].isdigit()])\n",
    "expr_folder_inds = [int(f.split('_')[0]) for f in expr_folders]\n",
    "# expr_folder_inds"
   ]
  },
  {
   "cell_type": "code",
   "execution_count": 16,
   "id": "5b98150f-2fa9-4dba-84ac-759f1aa1a85b",
   "metadata": {},
   "outputs": [],
   "source": [
    "# loop over experiments folders we want to look at\n",
    "for folder_num in folder_numbers:\n",
    "    # get current folder\n",
    "    ith = expr_folder_inds.index(folder_num)\n",
    "    expr_folder = expr_folders[ith]\n",
    "\n",
    "    # get all processed data files in that folder\n",
    "    data_files = glob.glob(os.path.join(data_root, expr_folder, '**', '*_processed.pkl'))\n",
    "\n",
    "    for data_file in data_files:\n",
    "        # load current data\n",
    "        data = pickle.load(open(data_file, \"rb\"))\n",
    "\n",
    "        # make plot\n",
    "        fig, ax = plot_spike_detection(data)\n",
    "\n",
    "        # save\n",
    "        # save_path, _ = os.path.split(data_file)\n",
    "        _, data_fn = os.path.split(data_file)\n",
    "        data_fn_no_ext, _ = os.path.splitext(data_fn)\n",
    "        axo_num_str = data_fn_no_ext.split('_')[-2] \n",
    "        save_name = f'expr_{folder_num:02d}_axo_{axo_num_str}_spikes.png'\n",
    "        fig.savefig(os.path.join(save_path, save_name))\n",
    "\n",
    "        plt.close(fig)\n"
   ]
  },
  {
   "cell_type": "code",
   "execution_count": 15,
   "id": "9a5cb7fd-aece-4407-8f2b-0edf6b9ce984",
   "metadata": {},
   "outputs": [
    {
     "data": {
      "text/plain": [
       "'2024_06_11_0007_processed'"
      ]
     },
     "execution_count": 15,
     "metadata": {},
     "output_type": "execute_result"
    }
   ],
   "source": [
    "data_fn_no_ext"
   ]
  },
  {
   "cell_type": "code",
   "execution_count": null,
   "id": "95665ea0-f2a3-407a-9066-dbc0a36c0a44",
   "metadata": {},
   "outputs": [],
   "source": []
  }
 ],
 "metadata": {
  "kernelspec": {
   "display_name": "Python 3 (ipykernel)",
   "language": "python",
   "name": "python3"
  },
  "language_info": {
   "codemirror_mode": {
    "name": "ipython",
    "version": 3
   },
   "file_extension": ".py",
   "mimetype": "text/x-python",
   "name": "python",
   "nbconvert_exporter": "python",
   "pygments_lexer": "ipython3",
   "version": "3.12.3"
  }
 },
 "nbformat": 4,
 "nbformat_minor": 5
}
