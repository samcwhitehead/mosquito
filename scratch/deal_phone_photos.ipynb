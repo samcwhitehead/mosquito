{
 "cells": [
  {
   "cell_type": "markdown",
   "id": "a6f4679a-692a-4fe6-a897-95b6f2f13280",
   "metadata": {},
   "source": [
    "# Very simple notebook to put downloaded phone photos in axo folders"
   ]
  },
  {
   "cell_type": "markdown",
   "id": "21ee3204-bf78-420b-978b-ccc7d60ccd2a",
   "metadata": {},
   "source": [
    "## Imports"
   ]
  },
  {
   "cell_type": "code",
   "execution_count": 2,
   "id": "5cb10ccd-d2a4-497e-962a-d95a69f812c5",
   "metadata": {},
   "outputs": [],
   "source": [
    "import os\n",
    "import glob\n",
    "\n",
    "from mosquito.transfer_data import deal_files\n"
   ]
  },
  {
   "cell_type": "markdown",
   "id": "48c1da50-2868-4e20-bc8f-1ff13b5ba8ee",
   "metadata": {},
   "source": [
    "## Do the transfer"
   ]
  },
  {
   "cell_type": "code",
   "execution_count": null,
   "id": "e91752c8-a732-4ede-8042-3949f1115183",
   "metadata": {},
   "outputs": [],
   "source": [
    "# set params and run\n",
    "expr_folder = '/media/sam/SamData/Mosquitoes/61_20241101'  # which folder to look at\n",
    "to_deal_dir = glob.glob(os.path.join(expr_folder, 'phone_photos', '*.jpg'))  # files to deal\n",
    "file_type = 'google_photos'  # 'google_photos' | 'photron' | 'general'\n",
    "\n",
    "deal_files(expr_folder, to_deal_dir, file_type=file_type)"
   ]
  }
 ],
 "metadata": {
  "kernelspec": {
   "display_name": "Python 3 (ipykernel)",
   "language": "python",
   "name": "python3"
  },
  "language_info": {
   "codemirror_mode": {
    "name": "ipython",
    "version": 3
   },
   "file_extension": ".py",
   "mimetype": "text/x-python",
   "name": "python",
   "nbconvert_exporter": "python",
   "pygments_lexer": "ipython3",
   "version": "3.12.5"
  }
 },
 "nbformat": 4,
 "nbformat_minor": 5
}
