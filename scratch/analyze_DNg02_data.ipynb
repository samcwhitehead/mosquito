{
 "cells": [
  {
   "cell_type": "markdown",
   "id": "f9d10a0c-bb73-46a0-9591-cca64536a3d3",
   "metadata": {},
   "source": [
    "# Notebook to look at first multichannel recordings"
   ]
  },
  {
   "cell_type": "markdown",
   "id": "7e229234-1686-4706-963b-768b7f03972f",
   "metadata": {},
   "source": [
    "## Imports"
   ]
  },
  {
   "cell_type": "code",
   "execution_count": 5,
   "id": "7b490fd0-7166-4030-9e4f-40fd954e21be",
   "metadata": {},
   "outputs": [
    {
     "name": "stdout",
     "output_type": "stream",
     "text": [
      "The autoreload extension is already loaded. To reload it, use:\n",
      "  %reload_ext autoreload\n"
     ]
    }
   ],
   "source": [
    "%load_ext autoreload\n",
    "%autoreload 2"
   ]
  },
  {
   "cell_type": "code",
   "execution_count": 6,
   "id": "07891006-f328-45ca-91f7-9e2bbb54d1cd",
   "metadata": {},
   "outputs": [],
   "source": [
    "import os \n",
    "import glob\n",
    "import pickle\n",
    "# import pywt\n",
    "\n",
    "import numpy as np\n",
    "import pandas as pd\n",
    "import matplotlib.pyplot as plt\n",
    "\n",
    "from scipy.signal import find_peaks\n",
    "from scipy.spatial.distance import cdist\n",
    "from scipy.stats import median_abs_deviation\n",
    "\n",
    "from sklearn.cluster import KMeans\n",
    "\n",
    "from neo.io import Spike2IO\n",
    "\n",
    "# from matplotlib import rcParams\n",
    "from mosquito.process_abf import (load_processed_data, cluster_spikes, save_processed_data, detect_spikes, estimate_spike_rate, \n",
    "                                   detrend_emg, filter_emg)\n",
    "from mosquito.util import set_plot_params, my_adjust_axes, my_add_scalebar, idx_by_thresh\n",
    "from mosquito.get_wing_kinematics import load_video_data, fetch_benifly_data, align_kinematics_to_cam\n"
   ]
  },
  {
   "cell_type": "markdown",
   "id": "0699ef57-058c-4d50-99b8-5b08754a8d61",
   "metadata": {},
   "source": [
    "## Params"
   ]
  },
  {
   "cell_type": "code",
   "execution_count": 42,
   "id": "51abf65a-05eb-4c43-b8dd-c1d521a2d4ce",
   "metadata": {},
   "outputs": [
    {
     "data": {
      "text/plain": [
       "{'font.family': 'sans-serif',\n",
       " 'font.serif': 'Times, Palatino, New Century Schoolbook, Bookman, Computer Modern Roman',\n",
       " 'font.sans-serif': 'arial, Helvetica, Avant Garde, Computer Modern Sans serif',\n",
       " 'font.cursive': 'Zapf Chancery',\n",
       " 'font.monospace': 'Courier, Computer Modern Typewriter',\n",
       " 'font.size': 8,\n",
       " 'axes.labelsize': 8,\n",
       " 'axes.linewidth': 1,\n",
       " 'xtick.major.width': 1,\n",
       " 'xtick.minor.width': 1,\n",
       " 'ytick.major.width': 1,\n",
       " 'ytick.minor.width': 1,\n",
       " 'xtick.labelsize': 8,\n",
       " 'ytick.labelsize': 8,\n",
       " 'figure.figsize': (4, 3)}"
      ]
     },
     "execution_count": 42,
     "metadata": {},
     "output_type": "execute_result"
    }
   ],
   "source": [
    "plt.style.use('dark_background')\n",
    "# plt.rc('axes', titlesize=18)     # fontsize of the axes title\n",
    "# plt.rc('axes', labelsize=16)     # fontsize of the x and y labels\n",
    "# plt.rc('xtick', labelsize=14)    # fontsize for x tick labels\n",
    "# plt.rc('ytick', labelsize=14)    # fontsize for y tick labels\n",
    "\n",
    "set_plot_params(plot_type='paper')"
   ]
  },
  {
   "cell_type": "markdown",
   "id": "fe331d43-8d3b-49d0-bb21-d3905d43ba8d",
   "metadata": {},
   "source": [
    "## Load data"
   ]
  },
  {
   "cell_type": "code",
   "execution_count": 27,
   "id": "63f88265-06c0-4d63-9406-90c8d5093151",
   "metadata": {},
   "outputs": [],
   "source": [
    "# file info\n",
    "data_folders_expr = [58, 58, 58, 58, 58]\n",
    "axo_nums_expr = [1, 3, 4, 9, 10]\n",
    "\n",
    "data_folders_ctrl = [18, 30, 31, 31, 31, 33, 33, 33, 33, 34, 34, 35, 35, 36]\n",
    "axo_nums_ctrl = [0, 1, 3, 4, 5, 0, 1, 3, 4, 5, 7, 0, 1, 3]\n"
   ]
  },
  {
   "cell_type": "code",
   "execution_count": 28,
   "id": "86c1446c-61fd-4d33-b6e0-1fdf5c181a23",
   "metadata": {},
   "outputs": [
    {
     "name": "stdout",
     "output_type": "stream",
     "text": [
      "completed 58, 1\n",
      "completed 58, 3\n",
      "completed 58, 4\n",
      "completed 58, 9\n",
      "completed 58, 10\n"
     ]
    }
   ],
   "source": [
    "# loop over data files and grab info for experimental group\n",
    "fly_dict_expr = dict()\n",
    "fly_dict_expr['expr_num'] = list()\n",
    "fly_dict_expr['axo_num'] = list()\n",
    "fly_dict_expr['wbf'] = list()\n",
    "fly_dict_expr['spike_rate'] = list()\n",
    "fly_dict_expr['wbf_std'] = list()\n",
    "fly_dict_expr['spike_rate_std'] = list()\n",
    "\n",
    "for data_folder, axo_num in zip(data_folders_expr, axo_nums_expr):\n",
    "    # load data dict\n",
    "    data = load_processed_data(data_folder, axo_num)\n",
    "\n",
    "    # get median spike rate and wbf\n",
    "    wbf = data['wbf']\n",
    "    spike_rate = data['spike_rate']\n",
    "\n",
    "    wbf_median = np.nanmedian(wbf)\n",
    "    wbf_std = np.nanstd(wbf)\n",
    "    if type(spike_rate) is list:\n",
    "        spike_rate_median = np.nanmedian(spike_rate[0])\n",
    "        spike_rate_std = np.nanstd(spike_rate[0])\n",
    "    else:\n",
    "        spike_rate_median = np.nanmedian(spike_rate)\n",
    "        spike_rate_std = np.nanstd(spike_rate)\n",
    "\n",
    "    # add to dict\n",
    "    fly_dict_expr['expr_num'].append(data_folder)\n",
    "    fly_dict_expr['axo_num'].append(axo_num)\n",
    "    fly_dict_expr['wbf'].append(wbf_median)\n",
    "    fly_dict_expr['spike_rate'].append(spike_rate_median)\n",
    "    fly_dict_expr['wbf_std'].append(wbf_std)\n",
    "    fly_dict_expr['spike_rate_std'].append(spike_rate_std)\n",
    "    \n",
    "    print(f'completed {data_folder}, {axo_num}')\n"
   ]
  },
  {
   "cell_type": "code",
   "execution_count": 29,
   "id": "22e9bf32-be2a-45da-b356-ccfc4df283a0",
   "metadata": {},
   "outputs": [
    {
     "name": "stdout",
     "output_type": "stream",
     "text": [
      "completed 18, 0\n",
      "completed 30, 1\n",
      "completed 31, 3\n",
      "completed 31, 4\n",
      "completed 31, 5\n",
      "completed 33, 0\n",
      "completed 33, 1\n",
      "completed 33, 3\n",
      "completed 33, 4\n",
      "completed 34, 5\n",
      "completed 34, 7\n",
      "completed 35, 0\n",
      "completed 35, 1\n",
      "completed 36, 3\n"
     ]
    }
   ],
   "source": [
    "# loop over data files and grab info for control group\n",
    "fly_dict_ctrl = dict()\n",
    "fly_dict_ctrl['expr_num'] = list()\n",
    "fly_dict_ctrl['axo_num'] = list()\n",
    "fly_dict_ctrl['wbf'] = list()\n",
    "fly_dict_ctrl['spike_rate'] = list()\n",
    "fly_dict_ctrl['wbf_std'] = list()\n",
    "fly_dict_ctrl['spike_rate_std'] = list()\n",
    "\n",
    "for data_folder, axo_num in zip(data_folders_ctrl, axo_nums_ctrl):\n",
    "    # load data dict\n",
    "    data = load_processed_data(data_folder, axo_num)\n",
    "\n",
    "    # get median spike rate and wbf\n",
    "    wbf = data['wbf']\n",
    "    spike_rate = data['spike_rate']\n",
    "\n",
    "    wbf_median = np.nanmedian(wbf)\n",
    "    wbf_std = np.nanstd(wbf)\n",
    "    if type(spike_rate) is list:\n",
    "        spike_rate_median = np.nanmedian(spike_rate[0])\n",
    "        spike_rate_std = np.nanstd(spike_rate[0])\n",
    "    else:\n",
    "        spike_rate_median = np.nanmedian(spike_rate)\n",
    "        spike_rate_std = np.nanstd(spike_rate)\n",
    "\n",
    "    # add to dict\n",
    "    fly_dict_ctrl['expr_num'].append(data_folder)\n",
    "    fly_dict_ctrl['axo_num'].append(axo_num)\n",
    "    fly_dict_ctrl['wbf'].append(wbf_median)\n",
    "    fly_dict_ctrl['spike_rate'].append(spike_rate_median)\n",
    "    fly_dict_ctrl['wbf_std'].append(wbf_std)\n",
    "    fly_dict_ctrl['spike_rate_std'].append(spike_rate_std)\n",
    "\n",
    "    print(f'completed {data_folder}, {axo_num}')\n"
   ]
  },
  {
   "cell_type": "code",
   "execution_count": 30,
   "id": "7f3ed1d1-f5d1-4546-b9ac-f36c841b29df",
   "metadata": {},
   "outputs": [],
   "source": [
    "# convert to dataframe \n",
    "fly_df_expr = pd.DataFrame.from_dict(fly_dict_expr)\n",
    "fly_df_ctrl = pd.DataFrame.from_dict(fly_dict_ctrl)\n"
   ]
  },
  {
   "cell_type": "code",
   "execution_count": 58,
   "id": "2295129a-c73b-4009-ad3b-bd84d67fac33",
   "metadata": {},
   "outputs": [
    {
     "data": {
      "image/png": "[encoded data removed]",
      "text/plain": [
       "<Figure size 400x300 with 1 Axes>"
      ]
     },
     "metadata": {},
     "output_type": "display_data"
    }
   ],
   "source": [
    "# plot\n",
    "fig, ax = plt.subplots()\n",
    "\n",
    "ax.errorbar(fly_dict_ctrl['spike_rate'], fly_dict_ctrl['wbf'], \n",
    "            xerr=fly_dict_ctrl['spike_rate_std'],\n",
    "            yerr=fly_dict_ctrl['wbf_std'],\n",
    "            label='HCS', \n",
    "            linestyle='none', \n",
    "            marker='o')\n",
    "\n",
    "ax.errorbar(fly_dict_expr['spike_rate'], fly_dict_expr['wbf'], \n",
    "            xerr=fly_dict_expr['spike_rate_std'],\n",
    "            yerr=fly_dict_expr['wbf_std'],\n",
    "            label='DNg02 > reaper-hid', \n",
    "            linestyle='none',\n",
    "            marker='o',\n",
    "            color='orange')\n",
    "\n",
    "ax.legend()\n",
    "ax.set_xlabel('spike rate (Hz)')\n",
    "ax.set_ylabel('wbf (Hz)')\n",
    "\n",
    "my_adjust_axes(ax, trim_ticks_flag=False)\n",
    "fig.tight_layout()\n",
    "fig.savefig('wbf_vs_spike_rate_DNg02_ablation.png')"
   ]
  },
  {
   "cell_type": "code",
   "execution_count": null,
   "id": "3533844f-5703-472a-80e4-693a4a3847fc",
   "metadata": {},
   "outputs": [],
   "source": []
  },
  {
   "cell_type": "code",
   "execution_count": null,
   "id": "915ceea3-5db1-45bf-b754-9b44ff5f96ea",
   "metadata": {},
   "outputs": [],
   "source": []
  },
  {
   "cell_type": "code",
   "execution_count": null,
   "id": "95e9620d-6d11-4fa3-93dd-2bef638a5d35",
   "metadata": {},
   "outputs": [],
   "source": []
  },
  {
   "cell_type": "code",
   "execution_count": null,
   "id": "d5b1ca55-159c-4cf1-8620-cdba14349c10",
   "metadata": {},
   "outputs": [],
   "source": []
  },
  {
   "cell_type": "code",
   "execution_count": null,
   "id": "449782ca-f771-4835-bcfd-798c2157919a",
   "metadata": {},
   "outputs": [],
   "source": []
  },
  {
   "cell_type": "code",
   "execution_count": null,
   "id": "47f96312-d7e5-44fe-8f78-b40fe1843bbb",
   "metadata": {},
   "outputs": [],
   "source": []
  },
  {
   "cell_type": "code",
   "execution_count": null,
   "id": "047dcf43-33cb-4de2-9094-3d8f2ef4b9f3",
   "metadata": {},
   "outputs": [],
   "source": [
    "\n",
    "\n",
    "\n",
    "\n",
    "\n",
    "\n",
    "\n",
    "\n",
    "\n",
    "\n",
    "\n",
    "\n",
    "\n",
    "\n",
    "\n",
    "\n",
    "\n",
    "\n",
    "\n",
    "\n",
    "\n",
    "\n",
    "\n",
    "\n",
    "\n",
    "\n",
    "\n",
    "\n",
    "\n",
    "\n",
    "\n",
    "\n"
   ]
  }
 ],
 "metadata": {
  "kernelspec": {
   "display_name": "Python 3 (ipykernel)",
   "language": "python",
   "name": "python3"
  },
  "language_info": {
   "codemirror_mode": {
    "name": "ipython",
    "version": 3
   },
   "file_extension": ".py",
   "mimetype": "text/x-python",
   "name": "python",
   "nbconvert_exporter": "python",
   "pygments_lexer": "ipython3",
   "version": "3.12.3"
  }
 },
 "nbformat": 4,
 "nbformat_minor": 5
}
