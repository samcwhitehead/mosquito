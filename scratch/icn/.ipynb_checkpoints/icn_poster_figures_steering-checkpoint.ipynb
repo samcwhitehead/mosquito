{
 "cells": [
  {
   "cell_type": "markdown",
   "id": "eab4a631-db43-45e3-ad4f-ecaea99ab452",
   "metadata": {},
   "source": [
    "## Notebook to make steering muscle figures for ICN 2024 poster"
   ]
  },
  {
   "cell_type": "markdown",
   "id": "f186739f-b2b3-4057-a9ba-0df88bba8f77",
   "metadata": {},
   "source": [
    "## Imports"
   ]
  },
  {
   "cell_type": "code",
   "execution_count": 1,
   "id": "4f88e9a6-401b-45a6-ac42-ad3577b18db8",
   "metadata": {},
   "outputs": [],
   "source": [
    "import os \n",
    "import glob\n",
    "import pickle\n",
    "\n",
    "import numpy as np\n",
    "import pandas as pd\n",
    "import matplotlib.pyplot as plt\n",
    "\n",
    "from matplotlib import rcParams\n",
    "from sklearn.neighbors import KernelDensity\n",
    "    \n",
    "from mosquito.process_abf import load_processed_data, detrend_emg\n",
    "from mosquito.util import set_plot_params, my_adjust_axes, my_add_scalebar\n",
    "# from mosquito.analyze_bursts import run_spike_detection\n"
   ]
  },
  {
   "cell_type": "markdown",
   "id": "6d977314-0f4d-4556-a306-34ecc92c1743",
   "metadata": {},
   "source": [
    "## Helper functions"
   ]
  },
  {
   "cell_type": "code",
   "execution_count": 28,
   "id": "a88b8274-5dde-4956-9868-16572063e4e5",
   "metadata": {},
   "outputs": [],
   "source": [
    "def plot_emg_trace(data, time_range, ax=None, scalebar_size=1, ylim=None,\n",
    "                   time_units='s', fig_params=None, line_color='k', mic_flag=True):\n",
    "    \"\"\"\n",
    "    Function to take in a data dictionary for a single fly and make\n",
    "    a zoomed-out plot of the emg trace\n",
    "\n",
    "    Args:\n",
    "        - data: dictionary loaded from pickled *_processed.p file\n",
    "        - time_window: tuple giving the range of data to plot \n",
    "            (e.g. (4, 8) will plot between t=4 and t=8 seconds)\n",
    "        - ax: axis object to plot to\n",
    "        - scalebar_size: size (duration) of scalebar, in seconds\n",
    "        - figsize: tuple giving (width, height) of figure in inches \n",
    "            (passed to pyplot.subplots)\n",
    "        - ylim: tuple giving y axis limits. If None, use auto scale\n",
    "        - time_units: units of time values in data. should be 's'\n",
    "        - fig_params: dictionary containing plot params; under \n",
    "            construction\n",
    "\n",
    "    Returns:\n",
    "        - fig, ax\n",
    "    \"\"\"\n",
    "    # read out data from dict\n",
    "    t = data['time']\n",
    "    if mic_flag:\n",
    "        # this is soooooo janky\n",
    "        emg = data['mic_filt']\n",
    "    else:\n",
    "        emg = data['emg_filt']\n",
    "    # emg = detrend_emg(emg)\n",
    "\n",
    "    # plot params\n",
    "    # TODO: move this to params dictionary\n",
    "    linewidth = 0.5 \n",
    "    scalebar_linewidth = 3.5  # 1.5\n",
    "    color = line_color\n",
    "    \n",
    "    # initialize figure (if needed)\n",
    "    if ax is None:\n",
    "        fig, ax = plt.subplots()\n",
    "\n",
    "    # restrict time domain to time_range\n",
    "    mask = (t >= time_range[0]) & (t <= time_range[-1])\n",
    "\n",
    "    emg_curr = emg[mask]\n",
    "    t_curr = t[mask]\n",
    "    \n",
    "    # plot. Note that we're subtracting off the initial time so it always\n",
    "    # starts at t=0\n",
    "    ax.plot(t_curr - time_range[0],\n",
    "             emg_curr,\n",
    "             color=color,\n",
    "             lw=linewidth)\n",
    "\n",
    "    # -----------------------------------------\n",
    "    # axis properties\n",
    "    # restrict x range\n",
    "    ax.set_xlim([0, time_range[1] - time_range[0]])\n",
    "\n",
    "    # restrict y range?\n",
    "    if ylim is not None:\n",
    "        ax.set_ylim(ylim)\n",
    "        \n",
    "    if scalebar_size == 0:\n",
    "        ax.spines['bottom'].set_visible(False)\n",
    "        ax.set_xticks([])\n",
    "        \n",
    "    else:\n",
    "        if scalebar_size < 1:\n",
    "            units = 'ms'\n",
    "            label_mult = 1000\n",
    "        else:\n",
    "            units = 's'\n",
    "            label_mult = 1\n",
    "            \n",
    "        ax = my_add_scalebar(ax, (0, scalebar_size), linewidth=scalebar_linewidth, \n",
    "                             spine='bottom', units=units, ticklength=0, \n",
    "                             offset_length=10, label_mult_factor=label_mult)\n",
    "    \n",
    "    # remove other axis lines\n",
    "    for spine in ['right', 'top', 'left']:\n",
    "        ax.spines[spine].set_visible(False)\n",
    "\n",
    "    # remove y ticks\n",
    "    ax.set_yticks([])\n",
    "    \n",
    "    return ax\n"
   ]
  },
  {
   "cell_type": "code",
   "execution_count": 19,
   "id": "4c1309ab-1d64-4d6c-97d2-1297fba2d7fc",
   "metadata": {},
   "outputs": [],
   "source": [
    "def make_trace_figure(data_folder, axo_num, time_range, scalebar_size=1, figsize=(2,4), save_flag=False, \n",
    "                      save_str='', save_ext='.svg', ylim=None, line_color='k', mic_flag=False, time_units='s'):\n",
    "    \"\"\"\n",
    "    Wrapper to make emg trace figure\n",
    "    \"\"\"\n",
    "    # load data\n",
    "    data = load_processed_data(data_folder, axo_num)\n",
    "    \n",
    "    # make figure\n",
    "    fig, ax = plt.subplots(figsize=figsize)\n",
    "    ax = plot_emg_trace(data, time_range, ax=ax, scalebar_size=scalebar_size, ylim=ylim, line_color=line_color, \n",
    "                        mic_flag=mic_flag, time_units=time_units)\n",
    "    \n",
    "    # save?\n",
    "    if save_flag:\n",
    "        # make the filename of the figure reflect which data file it's from\n",
    "        save_filename = f'{save_str}_{data_folder}_{axo_num:02d}{save_ext}'\n",
    "    \n",
    "        # save\n",
    "        fig.savefig(os.path.join(save_path, save_filename), dpi=save_dpi, bbox_inches='tight')\n",
    "\n",
    "    return fig, ax\n",
    "    "
   ]
  },
  {
   "cell_type": "code",
   "execution_count": null,
   "id": "30fd0753-0088-4bd6-86b9-837bb215a621",
   "metadata": {},
   "outputs": [],
   "source": []
  },
  {
   "cell_type": "markdown",
   "id": "e678f74b-3e6d-418d-9f25-b459d56eaea1",
   "metadata": {},
   "source": [
    "## Params"
   ]
  },
  {
   "cell_type": "code",
   "execution_count": 4,
   "id": "311ef7bb-d699-4347-a232-90bb27670b9d",
   "metadata": {},
   "outputs": [],
   "source": [
    "# PLOT PARAMETERS\n",
    "plot_type = 'poster'  # 'paper' or 'powerpoint' or 'poster\n",
    "plot_params = set_plot_params(plot_type=plot_type)\n"
   ]
  },
  {
   "cell_type": "code",
   "execution_count": 6,
   "id": "45671410-8f14-4ca4-9777-2a131a9497e2",
   "metadata": {},
   "outputs": [],
   "source": [
    "# SAVE INFO\n",
    "# where to save figures?\n",
    "save_path = '/media/sam/SamData/Dropbox/Conferences/ICN 2024/poster/figs'\n",
    "trace_save_str = 'steering_trace'  # header for filenames of trace plots\n",
    "waveform_save_str = 'steering_waveform'  # header for filenames of wavefor plots\n",
    "\n",
    "# should we save plots?\n",
    "save_trace_flag = True # if True, save the example emg trace plot; if False, don't\n",
    "save_waveform_flag = True  # if True, save the example emg waveform plot; if False, don't\n",
    "\n",
    "# how should figures be saved? (resolution, file format, etc)\n",
    "save_dpi = 500 \n",
    "save_ext_trace = '.svg'  # '.png'\n",
    "save_ext_waveform = '.svg'  # '.png'"
   ]
  },
  {
   "cell_type": "code",
   "execution_count": 40,
   "id": "6296fe63-fa7e-4c26-8688-599b314b5e7e",
   "metadata": {},
   "outputs": [],
   "source": [
    "# params for trace plots\n",
    "trace_scalebar_size = 0.01 \n",
    "trace_figsize = (6, 0.5)  # (6, 1.5) # (8, 2)\n",
    "\n",
    "waveform_scalebar_size = 0.02 \n",
    "waveform_figsize = (1.16*3, 1.16*2)"
   ]
  },
  {
   "cell_type": "code",
   "execution_count": 44,
   "id": "4e2e433b-8b8b-46f2-bf3b-2ee5c8360884",
   "metadata": {},
   "outputs": [],
   "source": [
    "# EXAMPLE DATA INFO\n",
    "# define identifying info for which data files we'll use here (can also do case by case basis)\n",
    "mosquito_female_folder = 39\n",
    "mosquito_female_axo = 4\n",
    "mosquito_female_ylim = None  # (-0.2569732666015625, 2.0193634033203125)\n",
    "mosquito_female_color = '#004488'\n",
    "\n",
    "mosquito_female_folder2 = 40\n",
    "mosquito_female_axo2 = 8\n",
    "\n",
    "# mosquito_male_folder = 37\n",
    "# mosquito_male_axo = 3 \n",
    "# mosquito_male_ylim = (-0.5, 3.05)  # (-0.4506072998046875, 2.9771575927734375)\n",
    "# mosquito_male_color = '#BB5566'\n",
    "\n",
    "drosophila_folder = 36\n",
    "drosophila_axo = 5\n",
    "drosophila_ylim = None  # (-0.35, 4.75)  # (-0.33963775634765625, 4.621406555175781)\n",
    "drosophila_color = '#555555'  # '#DDAA33'"
   ]
  },
  {
   "cell_type": "markdown",
   "id": "d2ae87d5-2f64-408a-b02b-605efb2fd91f",
   "metadata": {},
   "source": [
    "## Make plots of traces + mic signal"
   ]
  },
  {
   "cell_type": "code",
   "execution_count": 56,
   "id": "f6844f19-fecd-4f85-b7f6-72ced366c74d",
   "metadata": {},
   "outputs": [
    {
     "data": {
      "image/png": "[encoded data removed]",
      "text/plain": [
       "<Figure size 600x50 with 1 Axes>"
      ]
     },
     "metadata": {},
     "output_type": "display_data"
    }
   ],
   "source": [
    "# first need to play around with this a bit\n",
    "data_folder = mosquito_female_folder\n",
    "axo_num = mosquito_female_axo\n",
    "time_range = (55.2, 56.2)  #  (5.65, 6.65) # (0.12, 0.2)\n",
    "\n",
    "# plot\n",
    "fig, ax = make_trace_figure(data_folder, axo_num, time_range, \n",
    "                            scalebar_size=10*trace_scalebar_size,  # trace_scalebar_size, \n",
    "                            figsize=trace_figsize, \n",
    "                            save_flag=save_trace_flag, \n",
    "                            save_str=trace_save_str + '_zoomed_out', \n",
    "                            save_ext=save_ext_trace, \n",
    "                            ylim=mosquito_female_ylim,\n",
    "                           line_color=mosquito_female_color)\n"
   ]
  },
  {
   "cell_type": "code",
   "execution_count": 62,
   "id": "9b5d5c6e-b0c0-4d2a-a41b-c5ca19deab65",
   "metadata": {},
   "outputs": [
    {
     "data": {
      "image/png": "[encoded data removed]",
      "text/plain": [
       "<Figure size 600x50 with 1 Axes>"
      ]
     },
     "metadata": {},
     "output_type": "display_data"
    },
    {
     "data": {
      "image/png": "[encoded data removed]",
      "text/plain": [
       "<Figure size 600x50 with 1 Axes>"
      ]
     },
     "metadata": {},
     "output_type": "display_data"
    }
   ],
   "source": [
    "# first need to play around with this a bit\n",
    "data_folder = mosquito_female_folder\n",
    "axo_num = mosquito_female_axo\n",
    "time_range = (55.52, 55.62)  #  (5.65, 6.65) # (0.12, 0.2)\n",
    "\n",
    "# plot\n",
    "fig, ax = make_trace_figure(data_folder, axo_num, time_range, \n",
    "                            scalebar_size=trace_scalebar_size,  # trace_scalebar_size, \n",
    "                            figsize=trace_figsize, \n",
    "                            save_flag=save_trace_flag, \n",
    "                            save_str=trace_save_str, \n",
    "                            save_ext=save_ext_trace, \n",
    "                            ylim=mosquito_female_ylim,\n",
    "                           line_color=mosquito_female_color)\n",
    "\n",
    "fig, ax = make_trace_figure(data_folder, axo_num, time_range, \n",
    "                            scalebar_size=trace_scalebar_size, \n",
    "                            figsize=trace_figsize, \n",
    "                            save_flag=save_trace_flag, \n",
    "                            save_str=trace_save_str + '_mic', \n",
    "                            save_ext=save_ext_trace, \n",
    "                            ylim=mosquito_female_ylim,\n",
    "                           line_color='k',\n",
    "                           mic_flag=True)"
   ]
  },
  {
   "cell_type": "code",
   "execution_count": 46,
   "id": "94c0b37d-3665-4fc5-9269-87980ed8751b",
   "metadata": {},
   "outputs": [
    {
     "data": {
      "image/png": "[encoded data removed]",
      "text/plain": [
       "<Figure size 600x50 with 1 Axes>"
      ]
     },
     "metadata": {},
     "output_type": "display_data"
    },
    {
     "data": {
      "image/png": "[encoded data removed]",
      "text/plain": [
       "<Figure size 600x50 with 1 Axes>"
      ]
     },
     "metadata": {},
     "output_type": "display_data"
    }
   ],
   "source": [
    "# first need to play around with this a bit\n",
    "data_folder = mosquito_female_folder2\n",
    "axo_num = mosquito_female_axo2\n",
    "time_range = (10, 11)\n",
    "\n",
    "# plot\n",
    "fig, ax = make_trace_figure(data_folder, axo_num, time_range, \n",
    "                            scalebar_size=trace_scalebar_size,  # trace_scalebar_size, \n",
    "                            figsize=trace_figsize, \n",
    "                            save_flag=save_trace_flag, \n",
    "                            save_str=trace_save_str, \n",
    "                            save_ext=save_ext_trace, \n",
    "                            ylim=mosquito_female_ylim,\n",
    "                           line_color=mosquito_female_color)\n",
    "\n",
    "fig, ax = make_trace_figure(data_folder, axo_num, time_range, \n",
    "                            scalebar_size=trace_scalebar_size, \n",
    "                            figsize=trace_figsize, \n",
    "                            save_flag=save_trace_flag, \n",
    "                            save_str=trace_save_str + '_mic', \n",
    "                            save_ext=save_ext_trace, \n",
    "                            ylim=mosquito_female_ylim,\n",
    "                           line_color='k',\n",
    "                           mic_flag=True)"
   ]
  },
  {
   "cell_type": "code",
   "execution_count": 32,
   "id": "8eb888da-ae3e-4d4c-b7ca-fa00f51a01d4",
   "metadata": {},
   "outputs": [
    {
     "data": {
      "text/plain": [
       "2"
      ]
     },
     "execution_count": 32,
     "metadata": {},
     "output_type": "execute_result"
    }
   ],
   "source": [
    "trace_scalebar_size"
   ]
  },
  {
   "cell_type": "markdown",
   "id": "03bf04ad-38fb-4376-9705-5d48a24b5b27",
   "metadata": {},
   "source": [
    "## For phase histogram, using the b1_phase_analysis notebook"
   ]
  },
  {
   "cell_type": "code",
   "execution_count": null,
   "id": "8e18ad90-440a-4f69-9581-1074b84aae41",
   "metadata": {},
   "outputs": [],
   "source": []
  }
 ],
 "metadata": {
  "kernelspec": {
   "display_name": "Python 3 (ipykernel)",
   "language": "python",
   "name": "python3"
  },
  "language_info": {
   "codemirror_mode": {
    "name": "ipython",
    "version": 3
   },
   "file_extension": ".py",
   "mimetype": "text/x-python",
   "name": "python",
   "nbconvert_exporter": "python",
   "pygments_lexer": "ipython3",
   "version": "3.12.3"
  }
 },
 "nbformat": 4,
 "nbformat_minor": 5
}
