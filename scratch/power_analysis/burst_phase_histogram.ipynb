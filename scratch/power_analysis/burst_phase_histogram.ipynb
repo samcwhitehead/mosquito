{
 "cells": [
  {
   "cell_type": "markdown",
   "id": "809a5c87-3848-4f21-a4d3-69032620f803",
   "metadata": {},
   "source": [
    "# Notebook to do Duch-lab-style plotting of relative MN spike phase"
   ]
  },
  {
   "cell_type": "markdown",
   "id": "c8aac628-0afd-48de-baf0-f4e3751e39de",
   "metadata": {},
   "source": [
    "## Imports"
   ]
  },
  {
   "cell_type": "code",
   "execution_count": 1,
   "id": "fcd91e89-473f-4648-a839-b86f3286e610",
   "metadata": {},
   "outputs": [],
   "source": [
    "%load_ext autoreload\n",
    "%autoreload 2"
   ]
  },
  {
   "cell_type": "code",
   "execution_count": 2,
   "id": "dfdc991a-726f-43df-b06e-3f0696f37500",
   "metadata": {},
   "outputs": [],
   "source": [
    "import os \n",
    "import glob\n",
    "import pickle\n",
    "# import pywt\n",
    "\n",
    "import numpy as np\n",
    "import pandas as pd\n",
    "import matplotlib.pyplot as plt\n",
    "import matplotlib.cm as cm\n",
    "\n",
    "from scipy.signal import find_peaks, hilbert\n",
    "from scipy.spatial.distance import cdist\n",
    "from scipy.stats import median_abs_deviation\n",
    "\n",
    "from sklearn.cluster import KMeans\n",
    "\n",
    "from neo.io import Spike2IO\n",
    "\n",
    "# from matplotlib import rcParams\n",
    "from mosquito.process_abf import (load_processed_data, cluster_spikes, save_processed_data, detect_spikes, estimate_spike_rate, \n",
    "                                   detrend_emg, filter_emg)\n",
    "from mosquito.util import set_plot_params, my_adjust_axes, my_add_scalebar"
   ]
  },
  {
   "cell_type": "markdown",
   "id": "0f45d14d-b7a6-4bc2-ba39-8d2be1827052",
   "metadata": {},
   "source": [
    "## Params"
   ]
  },
  {
   "cell_type": "code",
   "execution_count": 3,
   "id": "8e8dd600-1e0b-4b28-8750-b3365c3a88b0",
   "metadata": {},
   "outputs": [],
   "source": [
    "plt.style.use('dark_background')\n",
    "plt.rc('axes', titlesize=18)     # fontsize of the axes title\n",
    "plt.rc('axes', labelsize=16)     # fontsize of the x and y labels\n",
    "plt.rc('xtick', labelsize=14)    # fontsize for x tick labels\n",
    "plt.rc('ytick', labelsize=14)    # fontsize for y tick labels\n"
   ]
  },
  {
   "cell_type": "markdown",
   "id": "43e41d55-bfb9-4f59-a5f5-fa031441dc19",
   "metadata": {},
   "source": [
    "## Helper functions"
   ]
  },
  {
   "cell_type": "code",
   "execution_count": 6,
   "id": "4f482d94-2d8b-4d82-8247-2bde872a73b1",
   "metadata": {},
   "outputs": [],
   "source": [
    "def get_pairwise_phase(spike_times, spike_times_ref):\n",
    "    \"\"\"\n",
    "    For two arrays of spike times (spike_times and spike_times_ref), determine the phase of \n",
    "    spike_times relative to the spike_times_ref. \n",
    "\n",
    "    Here, phase is in [0, 1]\n",
    "    \n",
    "    \"\"\"\n",
    "    # initialize some storage\n",
    "    phases = list()\n",
    "\n",
    "    # loop over spikes in x\n",
    "    for spike_time in spike_times:\n",
    "        # find the events in spike_times_ref bracketing current spike\n",
    "        spike_times_ref_pre = spike_times_ref[spike_times_ref <= spike_time]\n",
    "        spike_times_ref_post = spike_times_ref[spike_times_ref > spike_time]\n",
    "\n",
    "        # check that we have bracketing events\n",
    "        if (spike_times_ref_pre.size == 0) or (spike_times_ref_post.size == 0):\n",
    "            phase = np.nan\n",
    "        else:\n",
    "            # if we have ref events on either side, get phase\n",
    "            spike_time_ref_pre = spike_times_ref_pre[-1]\n",
    "            spike_time_ref_post = spike_times_ref_post[0]\n",
    "            phase = (spike_time - spike_time_ref_pre)/(spike_time_ref_post - spike_time_ref_pre)\n",
    "\n",
    "        # add to list\n",
    "        phases.append(phase)\n",
    "        \n",
    "    # return as array\n",
    "    return np.asarray(phases)\n",
    "    "
   ]
  },
  {
   "cell_type": "code",
   "execution_count": 7,
   "id": "d3406143-4fef-4b56-8462-c27548e91e2f",
   "metadata": {},
   "outputs": [],
   "source": [
    "def plot_spike_raster(spike_times_list, ax=None, xlim=None,colors=['r', 'y', 'orange', 'chocolate'], labels=None):\n",
    "    \"\"\"\n",
    "    Given a list containing multiple arrays of spike times, plot the spike times as a raster\n",
    "\n",
    "    \"\"\"\n",
    "    # make sure we have an axis object\n",
    "    if ax is None:\n",
    "        fig, ax = plt.subplots()\n",
    "\n",
    "    # get extent of raster lines on y-axis \n",
    "    line_boundaries = np.linspace(0, 1, len(spike_times_all) + 1)\n",
    "    boundary_ctrs = (line_boundaries[:-1] + line_boundaries[1:])/2.0\n",
    "\n",
    "\n",
    "    # loop over spike time lists\n",
    "    for ith, spike_times in enumerate(spike_times_list):\n",
    "        # current boundaries for raster lines\n",
    "        ymin = line_boundaries[ith+1]\n",
    "        ymax = line_boundaries[ith]\n",
    "\n",
    "        spike_times_curr = spike_times.copy()\n",
    "        if xlim is not None:\n",
    "            spike_times_curr =  spike_times_curr[(spike_times_curr >= xlim[0]) & (spike_times_curr <= xlim[1])]\n",
    "       \n",
    "            \n",
    "        # loop over spikes\n",
    "        for st in spike_times:\n",
    "            ax.axvline(st, ymin=ymin, ymax=ymax, color=colors[ith])\n",
    "\n",
    "    # set labels if we have them\n",
    "    if labels is not None:\n",
    "        ax.set_yticks(boundary_ctrs, labels=labels)\n",
    "\n",
    "    # set x (time) limits if we have them\n",
    "    if xlim is not None:\n",
    "        ax.set_xlim(xlim)\n",
    "        \n",
    "    return ax\n",
    "    "
   ]
  },
  {
   "cell_type": "markdown",
   "id": "332d2d20-de35-4618-9b55-6e5a42194041",
   "metadata": {},
   "source": [
    "## Load data"
   ]
  },
  {
   "cell_type": "code",
   "execution_count": 36,
   "id": "9a3aca82-4ec6-4f33-a993-819694a63af9",
   "metadata": {},
   "outputs": [],
   "source": [
    "# single data file to start\n",
    "data_folder = 63  # 66 # 65\n",
    "axo_num = 7  # 1  # 4\n",
    "\n",
    "data = load_processed_data(data_folder, axo_num, data_suffix='_processed_sort')\n"
   ]
  },
  {
   "cell_type": "code",
   "execution_count": 44,
   "id": "01c98436-9bcc-403b-92aa-e3b763437d19",
   "metadata": {},
   "outputs": [],
   "source": [
    "# read out fields and get sorted units\n",
    "t = data['time']\n",
    "if 'sorted_units' in data.keys():\n",
    "    spike_idx_list = data['sorted_units']\n",
    "    spike_times_ref = t[spike_idx_list[0][0]]\n",
    "    spike_times = t[spike_idx_list[1][0]]\n",
    "else:\n",
    "    spike_idx = data['spike_idx']\n",
    "    spike_times_ref = t[spike_idx[0]]\n",
    "    spike_times = t[spike_idx[1]]"
   ]
  },
  {
   "cell_type": "code",
   "execution_count": 45,
   "id": "d8f56963-e266-4e63-9181-6d84f733bb46",
   "metadata": {},
   "outputs": [],
   "source": [
    "# calculate phases\n",
    "phases = get_pairwise_phase(spike_times, spike_times_ref)\n",
    "\n",
    "# makes phases -pi to pi\n",
    "phases *= 2*np.pi\n",
    "phases[phases > np.pi] -= 2*np.pi\n"
   ]
  },
  {
   "cell_type": "code",
   "execution_count": 46,
   "id": "feddaffc-385b-4328-88cd-d1a6a69b181c",
   "metadata": {},
   "outputs": [
    {
     "data": {
      "text/plain": [
       "Text(0.5, 1.0, 'relative phase')"
      ]
     },
     "execution_count": 46,
     "metadata": {},
     "output_type": "execute_result"
    },
    {
     "data": {
      "image/png": "[encoded data removed]",
      "text/plain": [
       "<Figure size 640x480 with 1 Axes>"
      ]
     },
     "metadata": {},
     "output_type": "display_data"
    }
   ],
   "source": [
    "# make histogram of phases\n",
    "fig, ax = plt.subplots()\n",
    "\n",
    "bins = np.linspace(-np.pi, np.pi, 17)\n",
    "\n",
    "ax.hist(phases, bins, density=True)\n",
    "\n",
    "ax.set_xlabel('relative phase')\n",
    "ax.set_ylabel('pdf')\n",
    "ax.set_title(f'relative phase')"
   ]
  },
  {
   "cell_type": "code",
   "execution_count": null,
   "id": "e003745b-3a35-4d7c-a964-ea0e37f86b93",
   "metadata": {},
   "outputs": [],
   "source": []
  },
  {
   "cell_type": "code",
   "execution_count": null,
   "id": "caa92ed9-a146-432d-9425-b7d0b40369a3",
   "metadata": {},
   "outputs": [],
   "source": []
  },
  {
   "cell_type": "code",
   "execution_count": null,
   "id": "63609d68-870d-4e04-a705-203e08cb4bde",
   "metadata": {},
   "outputs": [],
   "source": []
  },
  {
   "cell_type": "code",
   "execution_count": null,
   "id": "a6cdf2af-cd6f-4c8d-a8b0-36c595392533",
   "metadata": {},
   "outputs": [],
   "source": []
  },
  {
   "cell_type": "code",
   "execution_count": null,
   "id": "41c53d7a-5651-4ebe-b495-b42095be8c95",
   "metadata": {},
   "outputs": [],
   "source": []
  },
  {
   "cell_type": "code",
   "execution_count": null,
   "id": "842367d1-3226-4f30-9582-d35dda149cfb",
   "metadata": {},
   "outputs": [],
   "source": [
    "\n",
    "\n",
    "\n",
    "\n",
    "\n",
    "\n",
    "\n",
    "\n",
    "\n",
    "\n",
    "\n",
    "\n",
    "\n",
    "\n",
    "\n",
    "\n",
    "\n",
    "\n",
    "\n",
    "\n",
    "\n",
    "\n",
    "\n",
    "\n",
    "\n",
    "\n",
    "\n",
    "\n",
    "\n",
    "\n",
    "\n",
    "\n",
    "\n",
    "\n",
    "\n",
    "\n",
    "\n",
    "\n",
    "\n"
   ]
  }
 ],
 "metadata": {
  "kernelspec": {
   "display_name": "Python 3 (ipykernel)",
   "language": "python",
   "name": "python3"
  },
  "language_info": {
   "codemirror_mode": {
    "name": "ipython",
    "version": 3
   },
   "file_extension": ".py",
   "mimetype": "text/x-python",
   "name": "python",
   "nbconvert_exporter": "python",
   "pygments_lexer": "ipython3",
   "version": "3.12.5"
  }
 },
 "nbformat": 4,
 "nbformat_minor": 5
}
