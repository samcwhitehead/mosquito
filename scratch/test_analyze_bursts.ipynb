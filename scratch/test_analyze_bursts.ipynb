{
 "cells": [
  {
   "cell_type": "markdown",
   "id": "0df37cf5-ada3-4fdd-973c-c579c548e4e8",
   "metadata": {},
   "source": [
    "# Notebook for working out analysis methods on bursts"
   ]
  },
  {
   "cell_type": "markdown",
   "id": "2ad32840-d194-4103-a34b-9d7150744e74",
   "metadata": {},
   "source": [
    "## Imports"
   ]
  },
  {
   "cell_type": "code",
   "execution_count": 9,
   "id": "0ca1628e-7d0d-47e8-8ead-31dd7abde5b3",
   "metadata": {},
   "outputs": [],
   "source": [
    "import os \n",
    "import pickle\n",
    "\n",
    "import numpy as np\n",
    "import pandas as pd\n",
    "import matplotlib.pyplot as plt\n",
    "\n",
    "from scipy import signal\n",
    "\n",
    "from mosquito.util import idx_by_thresh, butter_highpass_filter\n",
    "from mosquito.process_abf import load_processed_data\n",
    "from mosquito.analyze_bursts import detect_burst_peaks\n"
   ]
  },
  {
   "cell_type": "markdown",
   "id": "f4987801-8ff2-4e6e-9f07-154219784ed4",
   "metadata": {},
   "source": [
    "## Params"
   ]
  },
  {
   "cell_type": "code",
   "execution_count": 2,
   "id": "0164de9d-e38d-4bf5-a177-317801fc3d12",
   "metadata": {},
   "outputs": [],
   "source": [
    "plt.style.use('dark_background')\n",
    "plt.rc('axes', titlesize=18)     # fontsize of the axes title\n",
    "plt.rc('axes', labelsize=16)    # fontsize of the x and y labels\n"
   ]
  },
  {
   "cell_type": "markdown",
   "id": "125d551b-560a-48d4-9ecd-48cf219011c6",
   "metadata": {},
   "source": [
    "## Load data"
   ]
  },
  {
   "cell_type": "code",
   "execution_count": 3,
   "id": "5efc38fc-c184-44ad-b2f4-4b0009bd8782",
   "metadata": {},
   "outputs": [],
   "source": [
    "# paths to data\n",
    "data_root = '/media/sam/SamData/Mosquitoes'\n",
    "data_folder = '22_20240516'  # '17_20240507' # '05_20240322'  #'08_20240401' # '04_20240321' #   '05_20240322'  # '03_20240319' # \n",
    "axo_num = 12\n",
    "# vid_str = 'aedes_C001H001S0001_20240326_154951'\n",
    "data = load_processed_data(data_folder, axo_num)\n"
   ]
  },
  {
   "cell_type": "code",
   "execution_count": 4,
   "id": "ea17c857-a13a-4b55-90f5-ae2bbc6cb89b",
   "metadata": {},
   "outputs": [],
   "source": [
    "# read out data \n",
    "t = data['time']  \n",
    "emg_filt = data['emg_filt']\n",
    "emg = data['emg']\n",
    "spike_idx = data['spike_idx']\n",
    "mic_phase = data['mic_phase'] \n",
    "mic_filt = data['mic_filt']\n",
    "wbf = data['wbf'] \n",
    "\n",
    "window = round(data['params']['emg_window']/2)\n",
    "fs = data['sampling_freq']"
   ]
  },
  {
   "cell_type": "markdown",
   "id": "5703f603-73bc-4c5f-ad4d-c217b5c520c5",
   "metadata": {},
   "source": [
    "## Get burst peaks"
   ]
  },
  {
   "cell_type": "code",
   "execution_count": 5,
   "id": "d4a192fa-c56c-4459-964d-1f7cc5efe941",
   "metadata": {},
   "outputs": [],
   "source": [
    "# rename variable and use function to get burst peaks\n",
    "burst_idx = spike_idx\n",
    "burst_peak_idx = list()\n",
    "burst_df_list = list()\n",
    "\n",
    "for idx in burst_idx:\n",
    "    peaks, peaks_df = detect_burst_peaks(emg, t, idx)\n",
    "    burst_peak_idx.append(peaks)\n",
    "    burst_df_list.append(peaks_df)"
   ]
  },
  {
   "cell_type": "code",
   "execution_count": 6,
   "id": "a7438770-0147-4135-93dd-290ebd4032ba",
   "metadata": {},
   "outputs": [
    {
     "data": {
      "text/plain": [
       "[<matplotlib.lines.Line2D at 0x7fc4ba64d940>]"
      ]
     },
     "execution_count": 6,
     "metadata": {},
     "output_type": "execute_result"
    },
    {
     "data": {
      "image/png": "[encoded data removed]",
      "text/plain": [
       "<Figure size 640x480 with 1 Axes>"
      ]
     },
     "metadata": {},
     "output_type": "display_data"
    }
   ],
   "source": [
    "# test this approach\n",
    "fig, ax = plt.subplots()\n",
    "\n",
    "burst_ind = 30\n",
    "\n",
    "idx_range = np.arange(burst_idx[burst_ind] - window, burst_idx[burst_ind] + window)\n",
    "ax.plot(t[idx_range], emg[idx_range])\n",
    "# ax.plot(t[burst_peak_idx[burst_ind]], emg[burst_peak_idx[burst_ind]], 'rx')"
   ]
  },
  {
   "cell_type": "code",
   "execution_count": 10,
   "id": "e8b6f558-a6eb-4ddd-ab1f-e7a2b0f3d2d9",
   "metadata": {},
   "outputs": [],
   "source": [
    "burst_df = pd.concat(burst_df_list, ignore_index=True)"
   ]
  },
  {
   "cell_type": "code",
   "execution_count": 11,
   "id": "f7133cfd-1d75-4832-af20-a4595b75a77c",
   "metadata": {},
   "outputs": [
    {
     "data": {
      "text/html": [
       "<div>\n",
       "<style scoped>\n",
       "    .dataframe tbody tr th:only-of-type {\n",
       "        vertical-align: middle;\n",
       "    }\n",
       "\n",
       "    .dataframe tbody tr th {\n",
       "        vertical-align: top;\n",
       "    }\n",
       "\n",
       "    .dataframe thead th {\n",
       "        text-align: right;\n",
       "    }\n",
       "</style>\n",
       "<table border=\"1\" class=\"dataframe\">\n",
       "  <thead>\n",
       "    <tr style=\"text-align: right;\">\n",
       "      <th></th>\n",
       "      <th>burst_idx</th>\n",
       "      <th>spike_idx</th>\n",
       "      <th>spike_t</th>\n",
       "      <th>spike_dt</th>\n",
       "      <th>spike_num</th>\n",
       "      <th>spike_height</th>\n",
       "      <th>spike_left_height</th>\n",
       "    </tr>\n",
       "  </thead>\n",
       "  <tbody>\n",
       "    <tr>\n",
       "      <th>0</th>\n",
       "      <td>6071</td>\n",
       "      <td>5736</td>\n",
       "      <td>0.163479</td>\n",
       "      <td>0.000000</td>\n",
       "      <td>0</td>\n",
       "      <td>4.518738</td>\n",
       "      <td>4.518738</td>\n",
       "    </tr>\n",
       "    <tr>\n",
       "      <th>1</th>\n",
       "      <td>6071</td>\n",
       "      <td>5875</td>\n",
       "      <td>0.167441</td>\n",
       "      <td>0.003962</td>\n",
       "      <td>1</td>\n",
       "      <td>4.346619</td>\n",
       "      <td>0.700684</td>\n",
       "    </tr>\n",
       "    <tr>\n",
       "      <th>2</th>\n",
       "      <td>6071</td>\n",
       "      <td>5980</td>\n",
       "      <td>0.170433</td>\n",
       "      <td>0.006954</td>\n",
       "      <td>2</td>\n",
       "      <td>4.640198</td>\n",
       "      <td>0.656128</td>\n",
       "    </tr>\n",
       "    <tr>\n",
       "      <th>3</th>\n",
       "      <td>6071</td>\n",
       "      <td>6086</td>\n",
       "      <td>0.173455</td>\n",
       "      <td>0.009975</td>\n",
       "      <td>3</td>\n",
       "      <td>4.786987</td>\n",
       "      <td>0.566711</td>\n",
       "    </tr>\n",
       "    <tr>\n",
       "      <th>4</th>\n",
       "      <td>6071</td>\n",
       "      <td>6195</td>\n",
       "      <td>0.176561</td>\n",
       "      <td>0.013082</td>\n",
       "      <td>4</td>\n",
       "      <td>4.846802</td>\n",
       "      <td>0.495911</td>\n",
       "    </tr>\n",
       "    <tr>\n",
       "      <th>...</th>\n",
       "      <td>...</td>\n",
       "      <td>...</td>\n",
       "      <td>...</td>\n",
       "      <td>...</td>\n",
       "      <td>...</td>\n",
       "      <td>...</td>\n",
       "      <td>...</td>\n",
       "    </tr>\n",
       "    <tr>\n",
       "      <th>1308</th>\n",
       "      <td>4330491</td>\n",
       "      <td>4330321</td>\n",
       "      <td>123.416679</td>\n",
       "      <td>0.003933</td>\n",
       "      <td>1</td>\n",
       "      <td>4.225769</td>\n",
       "      <td>0.693054</td>\n",
       "    </tr>\n",
       "    <tr>\n",
       "      <th>1309</th>\n",
       "      <td>4330491</td>\n",
       "      <td>4330421</td>\n",
       "      <td>123.419529</td>\n",
       "      <td>0.006783</td>\n",
       "      <td>2</td>\n",
       "      <td>4.377747</td>\n",
       "      <td>0.540466</td>\n",
       "    </tr>\n",
       "    <tr>\n",
       "      <th>1310</th>\n",
       "      <td>4330491</td>\n",
       "      <td>4330516</td>\n",
       "      <td>123.422236</td>\n",
       "      <td>0.009491</td>\n",
       "      <td>3</td>\n",
       "      <td>4.572144</td>\n",
       "      <td>0.524292</td>\n",
       "    </tr>\n",
       "    <tr>\n",
       "      <th>1311</th>\n",
       "      <td>4330491</td>\n",
       "      <td>4330618</td>\n",
       "      <td>123.425143</td>\n",
       "      <td>0.012398</td>\n",
       "      <td>4</td>\n",
       "      <td>4.541931</td>\n",
       "      <td>0.393372</td>\n",
       "    </tr>\n",
       "    <tr>\n",
       "      <th>1312</th>\n",
       "      <td>4330491</td>\n",
       "      <td>4330834</td>\n",
       "      <td>123.431299</td>\n",
       "      <td>0.018554</td>\n",
       "      <td>5</td>\n",
       "      <td>3.807068</td>\n",
       "      <td>0.579834</td>\n",
       "    </tr>\n",
       "  </tbody>\n",
       "</table>\n",
       "<p>1313 rows × 7 columns</p>\n",
       "</div>"
      ],
      "text/plain": [
       "      burst_idx  spike_idx     spike_t  spike_dt  spike_num  spike_height  \\\n",
       "0          6071       5736    0.163479  0.000000          0      4.518738   \n",
       "1          6071       5875    0.167441  0.003962          1      4.346619   \n",
       "2          6071       5980    0.170433  0.006954          2      4.640198   \n",
       "3          6071       6086    0.173455  0.009975          3      4.786987   \n",
       "4          6071       6195    0.176561  0.013082          4      4.846802   \n",
       "...         ...        ...         ...       ...        ...           ...   \n",
       "1308    4330491    4330321  123.416679  0.003933          1      4.225769   \n",
       "1309    4330491    4330421  123.419529  0.006783          2      4.377747   \n",
       "1310    4330491    4330516  123.422236  0.009491          3      4.572144   \n",
       "1311    4330491    4330618  123.425143  0.012398          4      4.541931   \n",
       "1312    4330491    4330834  123.431299  0.018554          5      3.807068   \n",
       "\n",
       "      spike_left_height  \n",
       "0              4.518738  \n",
       "1              0.700684  \n",
       "2              0.656128  \n",
       "3              0.566711  \n",
       "4              0.495911  \n",
       "...                 ...  \n",
       "1308           0.693054  \n",
       "1309           0.540466  \n",
       "1310           0.524292  \n",
       "1311           0.393372  \n",
       "1312           0.579834  \n",
       "\n",
       "[1313 rows x 7 columns]"
      ]
     },
     "execution_count": 11,
     "metadata": {},
     "output_type": "execute_result"
    }
   ],
   "source": [
    "burst_df"
   ]
  },
  {
   "cell_type": "code",
   "execution_count": null,
   "id": "ee19884b-c5fe-4f55-a0c0-c15e5f994585",
   "metadata": {},
   "outputs": [],
   "source": []
  }
 ],
 "metadata": {
  "kernelspec": {
   "display_name": "Python 3 (ipykernel)",
   "language": "python",
   "name": "python3"
  },
  "language_info": {
   "codemirror_mode": {
    "name": "ipython",
    "version": 3
   },
   "file_extension": ".py",
   "mimetype": "text/x-python",
   "name": "python",
   "nbconvert_exporter": "python",
   "pygments_lexer": "ipython3",
   "version": "3.12.3"
  }
 },
 "nbformat": 4,
 "nbformat_minor": 5
}
