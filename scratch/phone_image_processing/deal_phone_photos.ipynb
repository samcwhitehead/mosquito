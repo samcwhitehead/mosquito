{
 "cells": [
  {
   "cell_type": "markdown",
   "id": "a6f4679a-692a-4fe6-a897-95b6f2f13280",
   "metadata": {},
   "source": [
    "# Very simple notebook to put downloaded phone photos in axo folders"
   ]
  },
  {
   "cell_type": "markdown",
   "id": "21ee3204-bf78-420b-978b-ccc7d60ccd2a",
   "metadata": {},
   "source": [
    "## Imports"
   ]
  },
  {
   "cell_type": "code",
   "execution_count": 4,
   "id": "d80dbd7a-f48d-47c8-8f25-b597e6731517",
   "metadata": {},
   "outputs": [
    {
     "name": "stdout",
     "output_type": "stream",
     "text": [
      "The autoreload extension is already loaded. To reload it, use:\n",
      "  %reload_ext autoreload\n"
     ]
    }
   ],
   "source": [
    "%load_ext autoreload\n",
    "%autoreload 2"
   ]
  },
  {
   "cell_type": "code",
   "execution_count": 5,
   "id": "5cb10ccd-d2a4-497e-962a-d95a69f812c5",
   "metadata": {},
   "outputs": [],
   "source": [
    "import os\n",
    "import glob\n",
    "\n",
    "from mosquito.transfer_data import deal_files\n"
   ]
  },
  {
   "cell_type": "markdown",
   "id": "48c1da50-2868-4e20-bc8f-1ff13b5ba8ee",
   "metadata": {},
   "source": [
    "## Do the transfer"
   ]
  },
  {
   "cell_type": "code",
   "execution_count": 6,
   "id": "e91752c8-a732-4ede-8042-3949f1115183",
   "metadata": {},
   "outputs": [
    {
     "name": "stdout",
     "output_type": "stream",
     "text": [
      "Copying /media/sam/SamData/Mosquitoes/68_20250206/phone/IMG_0358.jpg \n",
      " to /media/sam/SamData/Mosquitoes/68_20250206/2025_02_06_0000/IMG_0358.jpg ...\n",
      "Copying /media/sam/SamData/Mosquitoes/68_20250206/phone/IMG_0361.jpg \n",
      " to /media/sam/SamData/Mosquitoes/68_20250206/2025_02_06_0001/IMG_0361.jpg ...\n",
      "Copying /media/sam/SamData/Mosquitoes/68_20250206/phone/IMG_0363.jpg \n",
      " to /media/sam/SamData/Mosquitoes/68_20250206/2025_02_06_0002/IMG_0363.jpg ...\n",
      "Copying /media/sam/SamData/Mosquitoes/68_20250206/phone/IMG_0364.jpg \n",
      " to /media/sam/SamData/Mosquitoes/68_20250206/2025_02_06_0003/IMG_0364.jpg ...\n",
      "Copying /media/sam/SamData/Mosquitoes/68_20250206/phone/IMG_0365.jpg \n",
      " to /media/sam/SamData/Mosquitoes/68_20250206/2025_02_06_0004/IMG_0365.jpg ...\n",
      "Copying /media/sam/SamData/Mosquitoes/68_20250206/phone/IMG_0366.jpg \n",
      " to /media/sam/SamData/Mosquitoes/68_20250206/2025_02_06_0004/IMG_0366.jpg ...\n",
      "Copying /media/sam/SamData/Mosquitoes/68_20250206/phone/IMG_0367.jpg \n",
      " to /media/sam/SamData/Mosquitoes/68_20250206/2025_02_06_0004/IMG_0367.jpg ...\n",
      "Copying /media/sam/SamData/Mosquitoes/68_20250206/phone/IMG_0368.jpg \n",
      " to /media/sam/SamData/Mosquitoes/68_20250206/2025_02_06_0004/IMG_0368.jpg ...\n",
      "Copying /media/sam/SamData/Mosquitoes/68_20250206/phone/IMG_0369.jpg \n",
      " to /media/sam/SamData/Mosquitoes/68_20250206/2025_02_06_0005/IMG_0369.jpg ...\n",
      "Copying /media/sam/SamData/Mosquitoes/68_20250206/phone/IMG_0370.jpg \n",
      " to /media/sam/SamData/Mosquitoes/68_20250206/2025_02_06_0005/IMG_0370.jpg ...\n"
     ]
    }
   ],
   "source": [
    "# set params and run\n",
    "data_root = '/media/sam/SamData/Mosquitoes/'\n",
    "expr_name = '68_20250206'  # which folder to look at\n",
    "expr_folder = os.path.join(data_root, expr_name)\n",
    "to_deal_dir = glob.glob(os.path.join(expr_folder, 'phone', '*.jpg'))  # files to deal\n",
    "file_type = 'google_photos'  # 'google_photos' | 'photron' | 'general'\n",
    "\n",
    "deal_files(expr_folder, to_deal_dir, file_type=file_type, rename_str=None)"
   ]
  },
  {
   "cell_type": "code",
   "execution_count": null,
   "id": "16dd5dad-d528-42e1-8be7-06540d758c27",
   "metadata": {},
   "outputs": [],
   "source": []
  }
 ],
 "metadata": {
  "kernelspec": {
   "display_name": "Python 3 (ipykernel)",
   "language": "python",
   "name": "python3"
  },
  "language_info": {
   "codemirror_mode": {
    "name": "ipython",
    "version": 3
   },
   "file_extension": ".py",
   "mimetype": "text/x-python",
   "name": "python",
   "nbconvert_exporter": "python",
   "pygments_lexer": "ipython3",
   "version": "3.12.5"
  }
 },
 "nbformat": 4,
 "nbformat_minor": 5
}
