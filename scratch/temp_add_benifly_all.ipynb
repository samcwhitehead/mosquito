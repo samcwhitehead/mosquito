{
 "cells": [
  {
   "cell_type": "markdown",
   "id": "379b1c6f-25b0-4416-bda8-932095251c32",
   "metadata": {},
   "source": [
    "# Notebook to loop over data files and add Benifly tracking info where we can"
   ]
  },
  {
   "cell_type": "markdown",
   "id": "cd317fe8-2862-453a-af6c-368bb32240de",
   "metadata": {},
   "source": [
    "## Imports"
   ]
  },
  {
   "cell_type": "code",
   "execution_count": 41,
   "id": "c54ea579-93fc-4557-abb3-57832ceae28b",
   "metadata": {},
   "outputs": [],
   "source": [
    "import os\n",
    "import glob\n",
    "import pickle\n",
    "\n",
    "from mosquito.process_abf import load_processed_data\n",
    "from mosquito.get_wing_kinematics import load_video_data, incorporate_benifly_tracking"
   ]
  },
  {
   "cell_type": "markdown",
   "id": "1407b69b-f000-4ee2-9178-b6607615be32",
   "metadata": {},
   "source": [
    "## Data info"
   ]
  },
  {
   "cell_type": "code",
   "execution_count": 42,
   "id": "c55dee9f-e26c-4a77-8258-e595e328fe7f",
   "metadata": {},
   "outputs": [],
   "source": [
    "# get path to all axo files\n",
    "data_root = '/media/sam/SamData/Mosquitoes/'\n",
    "axo_file_paths = glob.glob(os.path.join(data_root, '*', '*','*.abf'))\n"
   ]
  },
  {
   "cell_type": "code",
   "execution_count": 43,
   "id": "a3734968-07fa-4c0c-b731-05abc45d47d6",
   "metadata": {},
   "outputs": [],
   "source": [
    "# find paths that also have a 'tracked' folder (indicating benifly)\n",
    "benifly_file_paths = glob.glob(os.path.join(data_root, '*', '*', '*', 'tracked'))\n"
   ]
  },
  {
   "cell_type": "code",
   "execution_count": 44,
   "id": "8b425136-1604-4250-9465-e2d2beee8321",
   "metadata": {},
   "outputs": [],
   "source": [
    "# find folders where we have both axo file and tracked folders\n",
    "axo_file_folders = [os.path.normpath(os.path.join(f, '..')) for f in axo_file_paths]\n",
    "benifly_file_folders = [os.path.normpath(os.path.join(f, '..', '..')) for f in benifly_file_paths]\n",
    "\n",
    "to_merge_folders = list(set(axo_file_folders) & set(benifly_file_folders))"
   ]
  },
  {
   "cell_type": "code",
   "execution_count": 45,
   "id": "540d87a5-2a53-4d01-a040-d03d988881da",
   "metadata": {},
   "outputs": [],
   "source": [
    "# get experiment number and axo number from each folder above\n",
    "data_folders = list()\n",
    "axo_numbers = list()\n",
    "\n",
    "for fol in to_merge_folders:\n",
    "    expr_path, axo_folder = os.path.split(fol)\n",
    "    _, expr_folder = os.path.split(expr_path)\n",
    "\n",
    "    axo_num = int(axo_folder.split('_')[-1])\n",
    "    expr_num = int(expr_folder.split('_')[0])\n",
    "\n",
    "    data_folders.append(expr_num)\n",
    "    axo_numbers.append(axo_num)\n"
   ]
  },
  {
   "cell_type": "markdown",
   "id": "44ae0e11-4000-4d97-9190-de622cf265cf",
   "metadata": {},
   "source": [
    "## Loop over folders and do the merge"
   ]
  },
  {
   "cell_type": "code",
   "execution_count": null,
   "id": "8d09a79e-f445-4391-8d2e-5b24d819c0ad",
   "metadata": {},
   "outputs": [
    {
     "name": "stdout",
     "output_type": "stream",
     "text": [
      "57, 3\n"
     ]
    },
    {
     "name": "stderr",
     "output_type": "stream",
     "text": [
      "/home/sam/Documents/code/mosquito/src/mosquito/read_photron.py:168: UserWarning: Not 12bit (8 bits)! clipped values?\n",
      "  warnings.warn('Not 12bit ({:g} bits)! clipped values?'.format(bits))\n"
     ]
    },
    {
     "name": "stdout",
     "output_type": "stream",
     "text": [
      "55, 2\n"
     ]
    },
    {
     "name": "stderr",
     "output_type": "stream",
     "text": [
      "/home/sam/Documents/code/mosquito/src/mosquito/read_photron.py:168: UserWarning: Not 12bit (8 bits)! clipped values?\n",
      "  warnings.warn('Not 12bit ({:g} bits)! clipped values?'.format(bits))\n"
     ]
    },
    {
     "name": "stdout",
     "output_type": "stream",
     "text": [
      "55, 9\n"
     ]
    },
    {
     "name": "stderr",
     "output_type": "stream",
     "text": [
      "/home/sam/Documents/code/mosquito/src/mosquito/read_photron.py:168: UserWarning: Not 12bit (8 bits)! clipped values?\n",
      "  warnings.warn('Not 12bit ({:g} bits)! clipped values?'.format(bits))\n"
     ]
    },
    {
     "name": "stdout",
     "output_type": "stream",
     "text": [
      "52, 5\n"
     ]
    },
    {
     "name": "stderr",
     "output_type": "stream",
     "text": [
      "/home/sam/Documents/code/mosquito/src/mosquito/read_photron.py:168: UserWarning: Not 12bit (8 bits)! clipped values?\n",
      "  warnings.warn('Not 12bit ({:g} bits)! clipped values?'.format(bits))\n"
     ]
    },
    {
     "name": "stdout",
     "output_type": "stream",
     "text": [
      "50, 15\n"
     ]
    },
    {
     "name": "stderr",
     "output_type": "stream",
     "text": [
      "/home/sam/Documents/code/mosquito/src/mosquito/read_photron.py:168: UserWarning: Not 12bit (8 bits)! clipped values?\n",
      "  warnings.warn('Not 12bit ({:g} bits)! clipped values?'.format(bits))\n"
     ]
    }
   ],
   "source": [
    "# at first, just do one to test\n",
    "for data_folder, axo_num in zip(data_folders, axo_numbers):\n",
    "    if not (data_folder==50 and axo_num == 15):\n",
    "        continue\n",
    "        \n",
    "    print(f'{data_folder}, {axo_num}')\n",
    "    # TEMP -- just redo for one expt\n",
    "      \n",
    "    try:\n",
    "        _ = incorporate_benifly_tracking(data_folder, axo_num, axo_data_suffix='_spikes', save_flag=True)\n",
    "    except ValueError:\n",
    "        try:\n",
    "            _ = incorporate_benifly_tracking(data_folder, axo_num, axo_data_suffix='_processed', save_flag=True)\n",
    "        except:\n",
    "            continue\n"
   ]
  },
  {
   "cell_type": "code",
   "execution_count": null,
   "id": "37ebd54d-85fe-49af-b310-d1b2f25a576a",
   "metadata": {},
   "outputs": [],
   "source": []
  },
  {
   "cell_type": "code",
   "execution_count": null,
   "id": "4f8e9251-8a43-4c4a-8722-e350a22a8eda",
   "metadata": {},
   "outputs": [],
   "source": []
  },
  {
   "cell_type": "code",
   "execution_count": null,
   "id": "aec8d59e-8d7f-4afe-9270-2d29660d5f73",
   "metadata": {},
   "outputs": [],
   "source": []
  },
  {
   "cell_type": "code",
   "execution_count": null,
   "id": "03035b5a-dd07-4ac2-b84d-cd94433d3fc8",
   "metadata": {},
   "outputs": [],
   "source": [
    "\n",
    "\n",
    "\n",
    "\n",
    "\n",
    "\n",
    "\n",
    "\n",
    "\n",
    "\n",
    "\n",
    "\n",
    "\n",
    "\n",
    "\n",
    "\n",
    "\n",
    "\n",
    "\n",
    "\n",
    "\n",
    "\n",
    "\n",
    "\n",
    "\n",
    "\n",
    "\n",
    "\n",
    "\n",
    "\n",
    "\n",
    "\n",
    "\n"
   ]
  }
 ],
 "metadata": {
  "kernelspec": {
   "display_name": "Python 3 (ipykernel)",
   "language": "python",
   "name": "python3"
  },
  "language_info": {
   "codemirror_mode": {
    "name": "ipython",
    "version": 3
   },
   "file_extension": ".py",
   "mimetype": "text/x-python",
   "name": "python",
   "nbconvert_exporter": "python",
   "pygments_lexer": "ipython3",
   "version": "3.12.3"
  }
 },
 "nbformat": 4,
 "nbformat_minor": 5
}
