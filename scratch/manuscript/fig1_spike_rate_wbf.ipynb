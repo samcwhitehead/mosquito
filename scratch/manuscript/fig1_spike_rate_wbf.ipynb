{
 "cells": [
  {
   "cell_type": "markdown",
   "id": "3ec6ba4d-3ee8-40e9-b19a-e5ee5282dd88",
   "metadata": {},
   "source": [
    "# Plot relationship between spike* rate and wbf for manuscript Fig 1\n",
    "\n",
    "**NB:** Have not updated this since ICN, so will want to include more data "
   ]
  },
  {
   "cell_type": "markdown",
   "id": "f83e6886-f78d-4a02-b427-9e1821840419",
   "metadata": {},
   "source": [
    "## Imports"
   ]
  },
  {
   "cell_type": "code",
   "execution_count": 5,
   "id": "bc29a3e0-1c7a-4ec3-afd0-fbc01a9c467a",
   "metadata": {},
   "outputs": [
    {
     "name": "stdout",
     "output_type": "stream",
     "text": [
      "The autoreload extension is already loaded. To reload it, use:\n",
      "  %reload_ext autoreload\n"
     ]
    }
   ],
   "source": [
    "%load_ext autoreload\n",
    "%autoreload 2"
   ]
  },
  {
   "cell_type": "code",
   "execution_count": 7,
   "id": "17b48610-acc3-4eef-b8a9-b6bc449707ee",
   "metadata": {},
   "outputs": [],
   "source": [
    "import os \n",
    "import glob\n",
    "import pickle\n",
    "\n",
    "import numpy as np\n",
    "import pandas as pd\n",
    "import matplotlib.pyplot as plt\n",
    "\n",
    "from matplotlib import rcParams\n",
    "from mosquito.process_abf import load_processed_data, detrend_emg\n",
    "from mosquito.util import set_plot_params, my_adjust_axes, my_add_scalebar\n"
   ]
  },
  {
   "cell_type": "markdown",
   "id": "fcb190e8-be8f-4caf-9560-4c54e1498625",
   "metadata": {},
   "source": [
    "## Helper functions"
   ]
  },
  {
   "cell_type": "code",
   "execution_count": 123,
   "id": "da3b529f-5681-48fa-b90f-899b9e21ffae",
   "metadata": {
    "jupyter": {
     "source_hidden": true
    }
   },
   "outputs": [],
   "source": [
    "# def my_adjust_axes(ax, keep_spines=['left', 'bottom'], xticks=None, yticks=None,\n",
    "#                    offset_length=10, tick_length=5, trim_ticks_flag=True):\n",
    "#     \"\"\"\n",
    "#     Convenience function to adjust axes to match plotting style\n",
    "\n",
    "#     Borrows heavily from flyplotlib:\n",
    "#     https://github.com/florisvb/FlyPlotLib/\n",
    "\n",
    "#     Args:\n",
    "#         ax: matplotlib axis object\n",
    "#         keep_spines: list of spines to keep\n",
    "#         xticks: array containing x tick mark locations\n",
    "#         yticks: array containing y tick mark locations\n",
    "#         offset_length: amount to offset axis rulers by\n",
    "#         tick_length: length to set axis ticks to\n",
    "#         timr_ticks_flag: bool, should we try to reduce tick count?\n",
    "\n",
    "#     Returns:\n",
    "#         ax: matplotlib axis object\n",
    "\n",
    "#     TODO: \n",
    "#         - allow different offsets for each spine\n",
    "#     \"\"\"\n",
    "#     # make sure keep_spines is a list\n",
    "#     if type(keep_spines) is not list:\n",
    "#         keep_spines = [keep_spines]\n",
    "\n",
    "#     # check if we should remove all axes and just return\n",
    "#     if 'none' in keep_spines:\n",
    "#         for loc, spine in ax.spines.items():\n",
    "#             spine.set_color('none') # don't draw spine\n",
    "#         ax.yaxis.set_ticks([])\n",
    "#         ax.xaxis.set_ticks([])\n",
    "#         return ax\n",
    "        \n",
    "#     # get ticks\n",
    "#     if xticks is None:\n",
    "#         xticks = ax.get_xticks()\n",
    "#     elif not isinstance(xticks,np.ndarray):\n",
    "#         xticks = np.asarray(xticks)\n",
    "    \n",
    "#     if yticks is None:\n",
    "#         yticks = ax.get_yticks()\n",
    "#     elif not isinstance(yticks,np.ndarray):\n",
    "#         yticks = np.asarray(yticks)\n",
    "    \n",
    "#     # sometimes we get ticks outside of limits that confuse the issue--remove\n",
    "#     xlim = ax.get_xlim()\n",
    "#     xticks = xticks[(xticks >= xlim[0]) & (xticks <= xlim[1])]\n",
    "#     ylim = ax.get_ylim()\n",
    "#     yticks = yticks[(yticks >= ylim[0]) & (yticks <= ylim[1])]\n",
    "    \n",
    "#     # get spines from axis object\n",
    "#     spines = ax.spines\n",
    "#     spine_locs = [loc for loc in spines.keys()]\n",
    "\n",
    "#     # remove spines that we don't want\n",
    "#     rm_spines = [loc for loc in spine_locs if loc not in keep_spines]\n",
    "#     for loc in rm_spines:\n",
    "#         ax.spines[loc].set_visible(False)\n",
    "\n",
    "#     # turn off ticks where there is no spine\n",
    "#     if 'left' in keep_spines:\n",
    "#         ax.yaxis.set_ticks_position('left')\n",
    "#     elif 'right' in keep_spines:\n",
    "#         ax.yaxis.set_ticks_position('right')\n",
    "#     else:\n",
    "#         # no yaxis ticks\n",
    "#         ax.yaxis.set_ticks([])\n",
    "\n",
    "#     if 'bottom' in keep_spines:\n",
    "#         ax.xaxis.set_ticks_position('bottom')\n",
    "#     if 'top' in keep_spines:\n",
    "#         ax.xaxis.set_ticks_position('top')\n",
    "#     else:\n",
    "#         # no xaxis ticks\n",
    "#         ax.xaxis.set_ticks([])    \n",
    "\n",
    "#     # for spines we want to keep, offset them\n",
    "#     for loc in keep_spines:\n",
    "#         # move spines outward\n",
    "#         ax.spines[loc].set_position(('outward', 15))\n",
    "\n",
    "#         # adjust spine size based on tick lengths\n",
    "#         if loc in ['left', 'right']:\n",
    "#             ticks = yticks\n",
    "#         if loc in ['top', 'bottom']:\n",
    "#             ticks = xticks\n",
    "#         if ticks is not None and len(ticks) > 0:\n",
    "#             ax.spines[loc].set_bounds(ticks[0], ticks[-1])\n",
    "\n",
    "#         # trim ticks down to minimum?\n",
    "#         if trim_ticks_flag:\n",
    "#             # take only ticks at limits or ticks at limits + middle\n",
    "#             if (ticks.size > 3) & (ticks.size%2 == 1):\n",
    "#                 ticks = ticks[[0, int(np.floor(xticks.size/2)), -1]]\n",
    "#             elif (ticks.size > 3) & (ticks.size%2 == 0):\n",
    "#                 ticks = ticks[[0, -1]]\n",
    "\n",
    "#             # update tick values in axis\n",
    "#             if loc in ['left', 'right']:\n",
    "#                 ax.yaxis.set_ticks(ticks)\n",
    "#             if loc in ['top', 'bottom']:\n",
    "#                 ax.xaxis.set_ticks(ticks)\n",
    "\n",
    "#     # also just set ticks inward\n",
    "#     ax.tick_params(direction='in', length=tick_length)\n",
    "    \n",
    "#     # return\n",
    "#     return ax"
   ]
  },
  {
   "cell_type": "code",
   "execution_count": 157,
   "id": "663756cd-5d21-4723-9d8f-4d76d539ff92",
   "metadata": {
    "jupyter": {
     "source_hidden": true
    }
   },
   "outputs": [],
   "source": [
    "# def my_add_scalebar(ax, scalebar_bounds, linewidth=1.5, spine='bottom', units='', ticklength=0, \n",
    "#                     offset_length=10):\n",
    "#     \"\"\"\n",
    "#     Function to convert an axis spine into a scalebar \n",
    "\n",
    "#     Args:\n",
    "#         ax: matplotlib axis object\n",
    "#         scalebar_bounds: 2 element tuple giving start and end of scalebar\n",
    "#         linewidth: width of scalebar\n",
    "#         spine: which spine to turn into scalebar\n",
    "#         units: string giving units of scalebar\n",
    "#         ticklength: length of ticks to use for scalebar\n",
    "\n",
    "#     Returns:\n",
    "#         ax\n",
    "#     \"\"\"\n",
    "#     # set spine to be visible \n",
    "#     ax.spines[spine].set_visible(True)\n",
    "#     # reduce its length\n",
    "#     ax.spines[spine].set_bounds([scalebar_bounds[0], scalebar_bounds[1]])\n",
    "#     # set thickness\n",
    "#     ax.spines[spine].set_linewidth(linewidth)\n",
    "#     # move outward\n",
    "#     ax.spines[spine].set_position(('outward', offset_length))\n",
    "    \n",
    "#     # label scalebar\n",
    "#     scalebar_center = (scalebar_bounds[0] + scalebar_bounds[1])/2\n",
    "#     scalebar_size = scalebar_bounds[1] - scalebar_bounds[0]\n",
    "#     if spine in ['bottom', 'top']:\n",
    "#         ax.set_xticks([scalebar_center])\n",
    "#         ax.set_xticklabels([f'{scalebar_size} {units}'])\n",
    "#         ax.tick_params(axis='x', length=ticklength)\n",
    "#     elif spine in ['left', 'right']:\n",
    "#         ax.set_yticks([scalebar_center])\n",
    "#         ax.set_yticklabels([f'{scalebar_size} {units}'])\n",
    "#         ax.tick_params(axis='y', length=ticklength)\n",
    "\n",
    "#     # return \n",
    "#     return ax\n"
   ]
  },
  {
   "cell_type": "markdown",
   "id": "3a9c1a46-ad0b-4505-8cb3-647fb9a1cc98",
   "metadata": {},
   "source": [
    "## Params"
   ]
  },
  {
   "cell_type": "code",
   "execution_count": 18,
   "id": "3d980165-8fd3-4643-a722-572f7847f24b",
   "metadata": {},
   "outputs": [],
   "source": [
    "# plot parameters\n",
    "plot_type = 'paper'  # 'paper' or 'powerpoint' or 'poster\n",
    "plot_params = set_plot_params(plot_type=plot_type)\n"
   ]
  },
  {
   "cell_type": "code",
   "execution_count": 19,
   "id": "b0e5ccb6-1b93-448b-96a1-cfc166d02b24",
   "metadata": {},
   "outputs": [],
   "source": [
    "# save info \n",
    "save_path = '/media/sam/SamData/Dropbox/Paper Manuscripts/Mosquitoes/figures/fig1/wbf_spike_rate'\n",
    "save_str = 'wbf_vs_spike_rate'\n",
    "save_str_corr = 'wbf_spike_rate_corr'\n",
    "save_flag = True\n",
    "save_dpi = 500\n"
   ]
  },
  {
   "cell_type": "code",
   "execution_count": 20,
   "id": "62b1ef86-9aca-4d1e-bb47-7b7f6d95172c",
   "metadata": {},
   "outputs": [],
   "source": [
    "# example fly\n",
    "data_folder_ex = 22\n",
    "axo_num_ex = 12"
   ]
  },
  {
   "cell_type": "code",
   "execution_count": 42,
   "id": "4fb0c8de-284b-402b-bc42-1d857dc40cdd",
   "metadata": {},
   "outputs": [],
   "source": [
    "# plot options\n",
    "bin_flag = False\n",
    "\n",
    "ms = 6 # 14  # MarkerSize\n",
    "alpha = 0.8\n",
    "lw = 0.25  # linewidth\n",
    "\n",
    "scatter_ms = 2  # 10\n",
    "scatter_alpha = 0.35\n",
    "\n",
    "mosquito_female_color = '#004488'\n",
    "mosquito_male_color = '#BB5566'\n",
    "drosophila_color = '#555555'\n",
    "colors = [mosquito_female_color , mosquito_male_color , drosophila_color]\n",
    "species_list = ['Aedes', 'Aedes', 'Drosophila']\n",
    "sex_list = ['F', 'M', 'F']\n"
   ]
  },
  {
   "cell_type": "markdown",
   "id": "a5cfbfb4-d365-460c-9617-cd32837faff1",
   "metadata": {},
   "source": [
    "## Load data"
   ]
  },
  {
   "cell_type": "code",
   "execution_count": 43,
   "id": "e32ff0be-5ada-45a8-bb2b-3725d74c49a3",
   "metadata": {},
   "outputs": [],
   "source": [
    "# path to pandas dataframe\n",
    "data_path = '/media/sam/SamData/Mosquitoes/analysis'\n",
    "if bin_flag:\n",
    "    data_fn = 'spike_rate_wbf_data_binned.pkl'\n",
    "else:\n",
    "    data_fn = 'spike_rate_wbf_data.pkl'\n",
    "\n",
    "fly_df = pd.read_pickle(os.path.join(data_path, data_fn))"
   ]
  },
  {
   "cell_type": "markdown",
   "id": "b5fe5d07-fd43-4327-afff-6e97529e2c02",
   "metadata": {},
   "source": [
    "## Make figure"
   ]
  },
  {
   "cell_type": "code",
   "execution_count": 44,
   "id": "c34a09af-a014-49e5-9277-aac00cd059b4",
   "metadata": {},
   "outputs": [
    {
     "data": {
      "image/png": "[encoded data removed]",
      "text/plain": [
       "<Figure size 140x120 with 1 Axes>"
      ]
     },
     "metadata": {},
     "output_type": "display_data"
    }
   ],
   "source": [
    "# quick plot\n",
    "fig, ax = plt.subplots(figsize=(1.4, 1.2))\n",
    "\n",
    "# loop over species and sex\n",
    "for ith, (spec, sx) in enumerate(zip(species_list, sex_list)):\n",
    "    # get index matching current dataset\n",
    "    idx = (fly_df['species'] == spec) & (fly_df['sex'] == sx)\n",
    "    \n",
    "    # get data\n",
    "    if bin_flag:\n",
    "        x = fly_df['spike_rate'][idx]\n",
    "        y = fly_df['wbf'][idx]\n",
    "    else:\n",
    "        x = fly_df['spike_rate_mean'][idx]\n",
    "        y = fly_df['wbf_mean'][idx]\n",
    "\n",
    "    # plot\n",
    "    ax.plot(x, y, '.', ms=ms, alpha=alpha, color=colors[ith], markeredgewidth=lw, label=f'{spec} {sx}')\n",
    "\n",
    "# label axes\n",
    "# ax.set_xlabel('burst or spike rate (Hz)')\n",
    "ax.set_xlabel('EJP rate (Hz)')\n",
    "ax.set_ylabel('wingbeat freq. (Hz)')\n",
    "\n",
    "# axis limits\n",
    "ax.set_xlim([0, 12])\n",
    "ax.set_ylim([100, 705])\n",
    "\n",
    "ax = my_adjust_axes(ax, tick_length=2)\n",
    "\n",
    "if save_flag:\n",
    "    fig.savefig(os.path.join(save_path, f'{save_str}.svg'), dpi=save_dpi, bbox_inches='tight')\n"
   ]
  },
  {
   "cell_type": "markdown",
   "id": "ffa79179-d407-402b-96ea-eced1dfd3671",
   "metadata": {},
   "source": [
    "## Make plot for correlation between wbf and spike rate"
   ]
  },
  {
   "cell_type": "code",
   "execution_count": 111,
   "id": "ef1b9cf9-0a38-43b3-b69d-4a251f510e57",
   "metadata": {},
   "outputs": [
    {
     "data": {
      "image/png": "[encoded data removed]",
      "text/plain": [
       "<Figure size 300x400 with 1 Axes>"
      ]
     },
     "metadata": {},
     "output_type": "display_data"
    }
   ],
   "source": [
    "# make plot\n",
    "fig, ax = plt.subplots(figsize=(3.0, 4))\n",
    "\n",
    "# loop over species and sex\n",
    "for ith, (spec, sx) in enumerate(zip(species_list, sex_list)):\n",
    "    # get index matching current dataset\n",
    "    idx = (fly_df['species'] == spec) & (fly_df['sex'] == sx)\n",
    "    \n",
    "    # get correlation vals\n",
    "    Rvals = fly_df['R'][idx]\n",
    "\n",
    "    # plot data\n",
    "    jitter_vals = 0.35*(np.random.rand(Rvals.shape[0]) - 0.5)\n",
    "    ax.plot(ith*np.ones_like(Rvals) + jitter_vals, Rvals, '.', ms=scatter_ms, alpha=scatter_alpha, \n",
    "            color=colors[ith], label=f'{spec} {sx}')\n",
    "\n",
    "    # plot mean +/- std\n",
    "    R_mean = np.mean(Rvals)\n",
    "    R_std = np.std(Rvals)\n",
    "    R_se = R_std/np.sqrt(Rvals.size)\n",
    "    ax.errorbar(ith, R_mean, yerr=R_se, ecolor='k', fmt='o', color='k', ms=ms/2)\n",
    "\n",
    "# label axes\n",
    "ax.set_ylabel('Correlation coef. \\n (wbf x spike rate)')\n",
    "\n",
    "# # axis limits\n",
    "# ax.set_xlim([0, 12])\n",
    "# ax.set_ylim([100, 705])\n",
    "\n",
    "ax = my_adjust_axes(ax, keep_spines=['left'])\n",
    "# # axis spines\n",
    "\n",
    "if save_flag:\n",
    "    fig.savefig(os.path.join(save_path, f'{save_str_corr}.svg'), dpi=save_dpi, bbox_inches='tight')"
   ]
  },
  {
   "cell_type": "markdown",
   "id": "804e52c6-8efd-4838-a914-0018b3de77a3",
   "metadata": {},
   "source": [
    "## Also make plots of wbf and spike rate in a single fly"
   ]
  },
  {
   "cell_type": "code",
   "execution_count": 46,
   "id": "e77958c3-7837-4272-9205-9dd6a9756893",
   "metadata": {},
   "outputs": [],
   "source": [
    "# load dataset for example fly\n",
    "data = load_processed_data(data_folder_ex, axo_num_ex)\n"
   ]
  },
  {
   "cell_type": "code",
   "execution_count": 47,
   "id": "1bc6d411-11a2-421a-a016-fce96fcce3ad",
   "metadata": {},
   "outputs": [],
   "source": [
    "# read out data for example fly\n",
    "t = data['time']\n",
    "wbf = data['wbf']\n",
    "emg = data['emg']\n",
    "burst_rate = data['spike_rate']\n",
    "\n",
    "emg = detrend_emg(emg)"
   ]
  },
  {
   "cell_type": "code",
   "execution_count": 52,
   "id": "dcc64c17-023b-49e4-a08f-8bb506035aa7",
   "metadata": {},
   "outputs": [
    {
     "data": {
      "image/png": "[encoded data removed]",
      "text/plain": [
       "<Figure size 160x160 with 3 Axes>"
      ]
     },
     "metadata": {},
     "output_type": "display_data"
    }
   ],
   "source": [
    "# plot \n",
    "fig, (ax0, ax1, ax2) = plt.subplots(3, 1, figsize=(1.6, 1.6))\n",
    "\n",
    "# restrict x range\n",
    "tmin = 1\n",
    "tmax = 25\n",
    "mask = (t >= tmin) & (t <= tmax)\n",
    "\n",
    "\n",
    "# plot spikes\n",
    "ax0.plot(t[mask] - tmin, emg[mask], color=mosquito_female_color, lw=0.5)\n",
    "ax0 = my_adjust_axes(ax0, keep_spines=['none'])\n",
    "\n",
    "ax1.plot(t[mask] - tmin, burst_rate[mask], color=mosquito_female_color, lw=0.75)\n",
    "# ax1.set_ylabel('spike rate (Hz)')\n",
    "ax1 = my_adjust_axes(ax1, keep_spines=['left'], tick_length=2)\n",
    "\n",
    "# plot wbf\n",
    "ax2.plot(t[mask] - tmin, wbf[mask], color='k', lw=0.75)\n",
    "# ax2.set_ylabel('wbf (Hz)')\n",
    "ax2 = my_adjust_axes(ax2, keep_spines=['left'], tick_length=2)\n",
    "\n",
    "# add scalebar\n",
    "ax2 = my_add_scalebar(ax2, scalebar_bounds=(0, 2), linewidth=1.0, units='s') \n",
    "\n",
    "fig.tight_layout()\n",
    "\n",
    "if save_flag:\n",
    "    fig.savefig(os.path.join(save_path, f'{save_str_corr}_ex.svg'), dpi=save_dpi, bbox_inches='tight')"
   ]
  },
  {
   "cell_type": "code",
   "execution_count": 49,
   "id": "2bb34a11-1fe8-42f7-93a3-acaaace32cfe",
   "metadata": {},
   "outputs": [
    {
     "data": {
      "text/plain": [
       "array([[1.    , 0.3336],\n",
       "       [0.3336, 1.    ]])"
      ]
     },
     "execution_count": 49,
     "metadata": {},
     "output_type": "execute_result"
    }
   ],
   "source": [
    "R = np.corrcoef(burst_rate, wbf)\n",
    "R"
   ]
  },
  {
   "cell_type": "code",
   "execution_count": 37,
   "id": "f9c225c0-6ede-4af9-b7ee-cee08fd67857",
   "metadata": {},
   "outputs": [
    {
     "name": "stdout",
     "output_type": "stream",
     "text": [
      "left\n",
      "right\n",
      "bottom\n",
      "top\n"
     ]
    }
   ],
   "source": [
    "for key in ax.spines.keys():\n",
    "    print(key)"
   ]
  },
  {
   "cell_type": "code",
   "execution_count": 38,
   "id": "c59c5f30-77c2-428d-8054-29faecd5e26e",
   "metadata": {},
   "outputs": [
    {
     "data": {
      "text/plain": [
       "'bottom'"
      ]
     },
     "execution_count": 38,
     "metadata": {},
     "output_type": "execute_result"
    }
   ],
   "source": [
    "ax.xaxis.get_label_position()"
   ]
  },
  {
   "cell_type": "code",
   "execution_count": null,
   "id": "1e822648-fece-4691-91b9-e17abf949624",
   "metadata": {},
   "outputs": [],
   "source": []
  }
 ],
 "metadata": {
  "kernelspec": {
   "display_name": "Python 3 (ipykernel)",
   "language": "python",
   "name": "python3"
  },
  "language_info": {
   "codemirror_mode": {
    "name": "ipython",
    "version": 3
   },
   "file_extension": ".py",
   "mimetype": "text/x-python",
   "name": "python",
   "nbconvert_exporter": "python",
   "pygments_lexer": "ipython3",
   "version": "3.12.5"
  }
 },
 "nbformat": 4,
 "nbformat_minor": 5
}
