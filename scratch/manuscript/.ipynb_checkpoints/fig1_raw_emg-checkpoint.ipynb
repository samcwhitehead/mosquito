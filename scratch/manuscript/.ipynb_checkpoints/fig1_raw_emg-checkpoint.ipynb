{
 "cells": [
  {
   "cell_type": "markdown",
   "id": "fecfa50e-13d8-4cbe-b7a7-123c1e8d0bc6",
   "metadata": {},
   "source": [
    "# Plot example emg signals for manuscript Fig 1\n",
    "\n",
    "**TODO**: I think showing the mic signal below the traces, as originally intended, is going to be hard to do -- at the resolution I would need to show oscillations in the mic signal, you're too zoomed in to see mosquito bursts. So, instead, I think I'll try to do a horizontal bar that indicates 100 wingbeats over each trace. *Need to code this up*"
   ]
  },
  {
   "cell_type": "markdown",
   "id": "d34a1683-7ef8-459f-8fed-ed613baa943b",
   "metadata": {},
   "source": [
    "## Imports"
   ]
  },
  {
   "cell_type": "code",
   "execution_count": 1,
   "id": "7fedeb1b-5b8d-430a-8ec4-d6f8027ff85b",
   "metadata": {},
   "outputs": [],
   "source": [
    "%load_ext autoreload\n",
    "%autoreload 2"
   ]
  },
  {
   "cell_type": "code",
   "execution_count": 2,
   "id": "940d0e92-65bd-4cd3-b7a1-6e21e143805b",
   "metadata": {},
   "outputs": [],
   "source": [
    "import os \n",
    "import glob\n",
    "import pickle\n",
    "\n",
    "import numpy as np\n",
    "# import pandas as pd\n",
    "import matplotlib.pyplot as plt\n",
    "\n",
    "from matplotlib import rcParams\n",
    "from mosquito.process_abf import load_processed_data, detrend_emg\n",
    "from mosquito.read_photron import my_read_cih, my_read_mraw\n",
    "from mosquito.analyze_bursts import realign_spikes\n",
    "from mosquito.util import set_plot_params"
   ]
  },
  {
   "cell_type": "markdown",
   "id": "3ef86290-67f2-4cf9-a1f6-7a7bad23dd73",
   "metadata": {},
   "source": [
    "## Helper functions"
   ]
  },
  {
   "cell_type": "code",
   "execution_count": 3,
   "id": "926527df-424e-4a07-994d-1810293ea04d",
   "metadata": {},
   "outputs": [],
   "source": [
    "def plot_data_trace(data, key, time_range, channel=0, ax=None, scalebar_size=1, ylim=None,\n",
    "                   time_units='s', fig_params=None, line_color='k'):\n",
    "    \"\"\"\n",
    "    Function to take in a data dictionary for a single fly and make\n",
    "    a zoomed-out plot of the time series data trace in 'key'\n",
    "\n",
    "    Args:\n",
    "        - data: dictionary loaded from pickled *_processed.p file\n",
    "        - key: string, giving data dict key for variable to plot\n",
    "        - channel: if plotting multichannel data, give channel number\n",
    "        - time_window: tuple giving the range of data to plot \n",
    "            (e.g. (4, 8) will plot between t=4 and t=8 seconds)\n",
    "        - ax: axis object to plot to\n",
    "        - scalebar_size: size (duration) of scalebar, in seconds\n",
    "        - figsize: tuple giving (width, height) of figure in inches \n",
    "            (passed to pyplot.subplots)\n",
    "        - ylim: tuple giving y axis limits. If None, use auto scale\n",
    "        - time_units: units of time values in data. should be 's'\n",
    "        - fig_params: dictionary containing plot params; under \n",
    "            construction\n",
    "\n",
    "    Returns:\n",
    "        - fig, ax\n",
    "    \"\"\"\n",
    "    # read out data from dict\n",
    "    t = data['time']\n",
    "    dat = data[key]\n",
    "\n",
    "    if isinstance(dat, list):\n",
    "        dat = dat[channel]\n",
    "        \n",
    "    if key == 'emg':\n",
    "        dat = detrend_emg(dat)\n",
    "\n",
    "    # plot params\n",
    "    # TODO: move this to params dictionary\n",
    "    linewidth = 0.5 \n",
    "    scalebar_linewidth = 1.0  # 1.5\n",
    "    color = line_color\n",
    "    \n",
    "    # initialize figure (if needed)\n",
    "    if ax is None:\n",
    "        fig, ax = plt.subplots()\n",
    "\n",
    "    # restrict time domain to time_range\n",
    "    mask = (t >= time_range[0]) & (t <= time_range[-1])\n",
    "\n",
    "    dat_curr = dat[mask]\n",
    "    t_curr = t[mask]\n",
    "    \n",
    "    # plot. Note that we're subtracting off the initial time so it always\n",
    "    # starts at t=0\n",
    "    ax.plot(t_curr - time_range[0],\n",
    "             dat_curr,\n",
    "             color=color,\n",
    "             lw=linewidth)\n",
    "\n",
    "    # -----------------------------------------\n",
    "    # axis properties\n",
    "    # restrict x range\n",
    "    ax.set_xlim([0, time_range[1] - time_range[0]])\n",
    "\n",
    "    # restrict y range?\n",
    "    if ylim is not None:\n",
    "        ax.set_ylim(ylim)\n",
    "        \n",
    "    # add scalebar\n",
    "    ax.spines['bottom'].set_bounds([0, scalebar_size])\n",
    "    ax.spines['bottom'].set_linewidth(scalebar_linewidth)\n",
    "    ax.spines['bottom'].set_position(('outward', 3))\n",
    "\n",
    "    # label scalebar. \n",
    "    ax.set_xticks([scalebar_size/2])\n",
    "    ax.set_xticklabels([f'{scalebar_size} {time_units}'])\n",
    "    ax.tick_params(length=0)\n",
    "    \n",
    "    # remove other axis lines\n",
    "    for spine in ['right', 'top', 'left']:\n",
    "        ax.spines[spine].set_visible(False)\n",
    "\n",
    "    # remove y ticks\n",
    "    ax.set_yticks([])\n",
    "    \n",
    "    return ax\n"
   ]
  },
  {
   "cell_type": "code",
   "execution_count": 11,
   "id": "c7ad3774-3df4-495a-914a-f03707cd3619",
   "metadata": {},
   "outputs": [],
   "source": [
    "def make_trace_figure(data_folder, axo_num, data_key, time_range, channel=0,  \n",
    "                      scalebar_size=1, figsize=(2,4), save_flag=False, \n",
    "                      save_str='', save_ext='.svg', ylim=None, line_color='k'):\n",
    "    \"\"\"\n",
    "    Wrapper to make emg trace figure\n",
    "    \"\"\"\n",
    "    # load data\n",
    "    data = load_processed_data(data_folder, axo_num)\n",
    "    \n",
    "    # make figure\n",
    "    fig, ax = plt.subplots(figsize=figsize)\n",
    "    ax = plot_data_trace(data, data_key, time_range, channel=channel, ax=ax, \n",
    "                         scalebar_size=scalebar_size, ylim=ylim, line_color=line_color)\n",
    "\n",
    "    # save?\n",
    "    if save_flag:\n",
    "        # make the filename of the figure reflect which data file it's from\n",
    "        save_filename = f'{save_str}_{data_folder}_{axo_num:02d}_{data_key}{save_ext}'\n",
    "    \n",
    "        # save\n",
    "        fig.savefig(os.path.join(save_path, save_filename), dpi=save_dpi, bbox_inches='tight')\n",
    "\n",
    "    return fig, ax\n",
    "    "
   ]
  },
  {
   "cell_type": "code",
   "execution_count": 12,
   "id": "8508e6ca-2a4f-4522-bef1-be1cf51d4044",
   "metadata": {},
   "outputs": [],
   "source": [
    "# def make_wbf_figure():\n",
    "#     \"\"\"\n",
    "#     Make figure showing microphone signal to accompany emg trace plots\n",
    "#     \"\"\""
   ]
  },
  {
   "cell_type": "markdown",
   "id": "3d7195c1-ad89-4709-9665-de2555fdfbe4",
   "metadata": {},
   "source": [
    "## Params"
   ]
  },
  {
   "cell_type": "code",
   "execution_count": 13,
   "id": "d2d258cf-f8ff-4b3c-ad59-9087bef5d35e",
   "metadata": {},
   "outputs": [],
   "source": [
    "# PLOT PARAMETERS\n",
    "dark_flag = False\n",
    "if dark_flag: \n",
    "    plt.style.use('dark_background')\n",
    "else:\n",
    "    plt.style.use('default')\n",
    "\n",
    "plot_type = 'paper'  # 'paper' or 'powerpoint' or 'poster\n",
    "plot_params = set_plot_params(plot_type=plot_type)\n",
    "# rcParams.update(plot_params)"
   ]
  },
  {
   "cell_type": "code",
   "execution_count": 14,
   "id": "287244f7-b350-451f-bc5b-92927b3269a9",
   "metadata": {},
   "outputs": [],
   "source": [
    "# SAVE INFO\n",
    "# where to save figures?\n",
    "save_path = '/media/sam/SamData/Dropbox/Paper Manuscripts/Mosquitoes/figures/fig1/emg_traces'\n",
    "trace_save_str = 'trace'  # header for filenames of trace plots\n",
    "\n",
    "if dark_flag:\n",
    "    trace_save_str += '_dark'\n",
    "    \n",
    "# should we save plots?\n",
    "save_trace_flag = True # if True, save the example emg trace plot; if False, don't\n",
    "\n",
    "# how should figures be saved? (resolution, file format, etc)\n",
    "save_dpi = 500 \n",
    "save_ext_trace = '.svg'  # '.png'\n",
    "\n",
    "# color info\n",
    "if dark_flag:\n",
    "    mosquito_female_color = '#ffbb77'\n",
    "    mosquito_male_color = '#44aa99'\n",
    "    drosophila_female_color = '#aaaaaa'  # '#DDAA33'\n",
    "else:\n",
    "    mosquito_female_color = '#004488'\n",
    "    mosquito_male_color = '#BB5566'\n",
    "    drosophila_female_color = '#555555'  # '#DDAA33'"
   ]
  },
  {
   "cell_type": "code",
   "execution_count": 15,
   "id": "32cc8529-2057-47dc-a6c3-4c6641f85625",
   "metadata": {},
   "outputs": [],
   "source": [
    "# params for trace plots\n",
    "trace_scalebar_size = 1 # 2\n",
    "trace_figsize = (1.7, 0.4)# (8, 2)\n"
   ]
  },
  {
   "cell_type": "code",
   "execution_count": 16,
   "id": "f0f88ba1-91a3-4f8f-8051-ee53af3d8c60",
   "metadata": {},
   "outputs": [],
   "source": [
    "# EXAMPLE DATA INFO\n",
    "# define identifying info for which data files we'll use here (can also do case by case basis)\n",
    "female_aedes_dlm = {\n",
    "    'folder': 26,\n",
    "    'axo': 2,\n",
    "    'channel': 0,\n",
    "    't_start': 1.4,\n",
    "    'ylim': (-0.13, 1.4),\n",
    "    'sex': 'F',\n",
    "    'muscle': 'DLM',\n",
    "    'species': 'aedes',\n",
    "}\n",
    "\n",
    "female_aedes_dvm = {\n",
    "    'folder': 38,\n",
    "    'axo': 10,\n",
    "    'channel': 0,\n",
    "    't_start': 98,\n",
    "    'ylim':(-0.28, 2.1),\n",
    "    'sex': 'F',\n",
    "    'muscle': 'DVM',\n",
    "    'species': 'aedes',\n",
    "}\n",
    "\n",
    "female_drosophila_dlm = {\n",
    "    'folder': 35,\n",
    "    'axo': 0,\n",
    "    'channel': 0,\n",
    "    't_start': 0.9,\n",
    "    'ylim':(-0.35, 4.75),\n",
    "    'sex': 'F',\n",
    "    'muscle': 'DLM',\n",
    "    'species': 'drosophila',\n",
    "}\n",
    "\n",
    "female_drosophila_dvm = {\n",
    "    'folder': 34,\n",
    "    'axo': 1,\n",
    "    'channel': 0,\n",
    "    't_start': 1,\n",
    "    'ylim':(-0.14, 1.05),\n",
    "    'sex': 'F',\n",
    "    'muscle': 'DVM',\n",
    "    'species': 'drosophila',\n",
    "}\n",
    "\n",
    "\n",
    "examples_list = [female_aedes_dlm, female_aedes_dvm, female_drosophila_dlm, female_drosophila_dvm]\n",
    "\n",
    "# mosquito_male_folder = 37\n",
    "# mosquito_male_axo = 3 \n",
    "# mosquito_male_ylim = (-0.5, 3.05)  # (-0.4506072998046875, 2.9771575927734375)\n"
   ]
  },
  {
   "cell_type": "markdown",
   "id": "5697bb59-81ce-4a62-beb8-660594af2e25",
   "metadata": {},
   "source": [
    "## Make example trace plots"
   ]
  },
  {
   "cell_type": "code",
   "execution_count": 17,
   "id": "f8bb94e1-d01b-4ae5-983b-25ec3fe4f7db",
   "metadata": {},
   "outputs": [
    {
     "data": {
      "image/png": "[encoded data removed]",
      "text/plain": [
       "<Figure size 170x40 with 1 Axes>"
      ]
     },
     "metadata": {},
     "output_type": "display_data"
    },
    {
     "data": {
      "image/png": "[encoded data removed]",
      "text/plain": [
       "<Figure size 170x40 with 1 Axes>"
      ]
     },
     "metadata": {},
     "output_type": "display_data"
    },
    {
     "data": {
      "image/png": "[encoded data removed]",
      "text/plain": [
       "<Figure size 170x40 with 1 Axes>"
      ]
     },
     "metadata": {},
     "output_type": "display_data"
    },
    {
     "data": {
      "image/png": "[encoded data removed]",
      "text/plain": [
       "<Figure size 170x40 with 1 Axes>"
      ]
     },
     "metadata": {},
     "output_type": "display_data"
    }
   ],
   "source": [
    "# try doing this via loop \n",
    "data_key = 'emg'\n",
    "time_duration = 5  # sec\n",
    "for ex_dict in examples_list:\n",
    "    # get appropriate color\n",
    "    if (ex_dict['species'] == 'aedes') and (ex_dict['sex'] == 'F'):\n",
    "        color = mosquito_female_color\n",
    "    elif (ex_dict['species'] == 'aedes') and (ex_dict['sex'] == 'M'):\n",
    "        color = mosquito_male_color\n",
    "    elif (ex_dict['species'] == 'drosophila') and (ex_dict['sex'] == 'F'):\n",
    "        color = drosophila_female_color\n",
    "    elif (ex_dict['species'] == 'drosophila') and (ex_dict['sex'] == 'M'):\n",
    "        color = drosophila_male_color\n",
    "    else:\n",
    "        raise Exception('Invalid species/sex combination')\n",
    "        \n",
    "    # make plot\n",
    "    fig, ax = make_trace_figure(ex_dict['folder'], ex_dict['axo'], data_key, \n",
    "                                (ex_dict['t_start'], ex_dict['t_start'] + time_duration), \n",
    "                                channel=ex_dict['channel'], \n",
    "                                scalebar_size=trace_scalebar_size, \n",
    "                                figsize=trace_figsize, \n",
    "                                save_flag=save_trace_flag, \n",
    "                                save_str=trace_save_str, \n",
    "                                save_ext=save_ext_trace, \n",
    "                                ylim=ex_dict['ylim'],\n",
    "                                line_color=color)\n",
    "    "
   ]
  },
  {
   "cell_type": "code",
   "execution_count": 108,
   "id": "bf819936-3a3f-4baf-8b25-1e39a7d48f1d",
   "metadata": {},
   "outputs": [
    {
     "data": {
      "image/png": "[encoded data removed]",
      "text/plain": [
       "<Figure size 190x65 with 1 Axes>"
      ]
     },
     "metadata": {},
     "output_type": "display_data"
    }
   ],
   "source": [
    "\"\"\"\n",
    "# example female mosquito\n",
    "data_folder = mosquito_female_folder\n",
    "axo_num = mosquito_female_axo \n",
    "time_range =  (98, 103) # (98, 98.2)  # (98, 120)\n",
    "data_key = 'emg'\n",
    "channel = 0\n",
    "\n",
    "fig, ax = make_trace_figure(data_folder, axo_num, data_key, channel, time_range, \n",
    "                            scalebar_size=trace_scalebar_size, \n",
    "                            figsize=trace_figsize, \n",
    "                            save_flag=save_trace_flag, \n",
    "                            save_str=trace_save_str, \n",
    "                            save_ext=save_ext_trace, \n",
    "                            ylim=None,\n",
    "                            line_color=mosquito_female_color)\n",
    "\"\"\"                      "
   ]
  },
  {
   "cell_type": "code",
   "execution_count": 114,
   "id": "2148cc62-7a51-4c67-96fc-bb159c5da9ff",
   "metadata": {},
   "outputs": [
    {
     "data": {
      "text/plain": [
       "(-0.133392333984375, 1.042205810546875)"
      ]
     },
     "execution_count": 114,
     "metadata": {},
     "output_type": "execute_result"
    },
    {
     "data": {
      "image/png": "[encoded data removed]",
      "text/plain": [
       "<Figure size 190x65 with 1 Axes>"
      ]
     },
     "metadata": {},
     "output_type": "display_data"
    }
   ],
   "source": [
    "\"\"\"\n",
    "# example drosophila\n",
    "# load\n",
    "data_folder = 34\n",
    "axo_num = 1\n",
    "time_range = (1, 6)  # (1, 23)\n",
    "data_key = 'emg'\n",
    "channel = 0\n",
    "\n",
    "fig, ax = make_trace_figure(data_folder, axo_num, data_key, channel, time_range, \n",
    "                            scalebar_size=trace_scalebar_size, \n",
    "                            figsize=trace_figsize, \n",
    "                            save_flag=save_trace_flag, \n",
    "                            save_str=trace_save_str, \n",
    "                            save_ext=save_ext_trace,\n",
    "                            ylim=None,\n",
    "                            line_color=drosophila_color)\n",
    "\n",
    "ax.get_ylim()\n",
    "# fig, ax = make_trace_figure(data_folder, axo_num, 'mic_filt', channel, time_range, \n",
    "#                             scalebar_size=trace_scalebar_size, \n",
    "#                             figsize=trace_figsize, \n",
    "#                             save_flag=save_trace_flag, \n",
    "#                             save_str=trace_save_str, \n",
    "#                             save_ext=save_ext_trace,\n",
    "#                             ylim=None,\n",
    "#                             line_color='k')\n",
    "\"\"\""
   ]
  },
  {
   "cell_type": "code",
   "execution_count": 99,
   "id": "8cf52797-6119-41a5-bb7d-f7fdc9221c30",
   "metadata": {
    "scrolled": true
   },
   "outputs": [
    {
     "data": {
      "image/png": "[encoded data removed]",
      "text/plain": [
       "<Figure size 190x65 with 1 Axes>"
      ]
     },
     "metadata": {},
     "output_type": "display_data"
    }
   ],
   "source": [
    "\"\"\"\n",
    "# example male mosquito\n",
    "# load\n",
    "data_folder = mosquito_male_folder\n",
    "axo_num = mosquito_male_axo \n",
    "time_range = (1, 23)\n",
    "data_key = 'emg'\n",
    "channel = 0\n",
    "\n",
    "fig, ax = make_trace_figure(data_folder, axo_num, data_key, channel, time_range, \n",
    "                            scalebar_size=trace_scalebar_size, \n",
    "                            figsize=trace_figsize, \n",
    "                            save_flag=save_trace_flag, \n",
    "                            save_str=trace_save_str, \n",
    "                            save_ext=save_ext_trace,\n",
    "                            ylim=mosquito_male_ylim,\n",
    "                            line_color=mosquito_male_color)\n",
    "\"\"\""
   ]
  },
  {
   "cell_type": "markdown",
   "id": "bbb7ddd9-ef99-4b7d-961f-e7e7153fcb5f",
   "metadata": {},
   "source": [
    "## Make example waveform plots -- not in Fig 1 so move to new NB"
   ]
  },
  {
   "cell_type": "code",
   "execution_count": 4,
   "id": "7c94735e-d083-4009-a08e-0d49d329233e",
   "metadata": {},
   "outputs": [],
   "source": [
    "# def plot_emg_waveform(data, ax=None, scalebar_size=0.01, figsize=(2,1), ylim=None, \n",
    "#                       xlim=None, time_units='s', fig_params=None, line_color='k',\n",
    "#                      rm_flag=False):\n",
    "#     \"\"\"\n",
    "#     Function to take in a data dictionary for a single fly and make\n",
    "#     a plot showing extracted spike/burst waveforms\n",
    "\n",
    "#     Args:\n",
    "#         - data: dictionary loaded from pickled *_processed.p file\n",
    "#         - ax: axis object to plot to\n",
    "#         - scalebar_size: size (duration) of scalebar, in seconds\n",
    "#         - figsize: tuple giving (width, height) of figure in inches \n",
    "#             (passed to pyplot.subplots)\n",
    "#         - ylim: tuple giving y axis limits. If None, use auto scale\n",
    "#         - xlim: tuple giving x axis limits. If None, use auto scale\n",
    "#         - time_units: units of time values in data. should be 's'\n",
    "#         - fig_params: dictionary containing plot params; under \n",
    "#             construction\n",
    "\n",
    "#     Returns:\n",
    "#         - ax\n",
    "#     \"\"\"\n",
    "#     # plot params\n",
    "#     linewidth = 0.1 \n",
    "#     alpha = 0.2 \n",
    "#     scalebar_linewidth = 1.0\n",
    "#     color = line_color\n",
    "\n",
    "#     # read out signals from data dictionary\n",
    "#     window = round(data['params']['emg_window']/2)\n",
    "#     spikes = data['spikes']\n",
    "#     spike_idx = data['spike_idx']\n",
    "#     emg = data['emg']\n",
    "#     fs = data['sampling_freq']\n",
    "\n",
    "#     # realign spikes based on raw data (they are stored based on filtered alignment)\n",
    "#     spikes_realigned, _ = realign_spikes(data['spikes'], data['spike_idx'], \n",
    "#                                          data['emg'], window=window, \n",
    "#                                          thresh_factor=0.2)\n",
    "\n",
    "#     # remove some of early window\n",
    "#     cut_window = round(window/2)\n",
    "#     spikes_realigned = [spike[cut_window:] for spike in spikes_realigned]\n",
    "\n",
    "#     # remove some bad spikes?\n",
    "#     if rm_flag:\n",
    "#         spike_array = np.vstack(spikes_realigned)\n",
    "#         spike_array -= np.reshape(np.mean(spike_array[:, :window], axis=1), (-1, 1))  # zero the initial portion of spike waveform\n",
    "#         spike_mean = np.mean(spike_array, axis=0)\n",
    "#         spike_dist = np.sum((spike_array - spike_mean)**2, axis=1)\n",
    "#         spike_dist_z = (spike_dist - np.mean(spike_dist))/np.std(spike_dist)\n",
    "#         keep_ind = np.where(np.abs(spike_dist_z) < 5)[0]\n",
    "#         spikes_realigned_new = [spikes_realigned[ix] for ix in keep_ind]\n",
    "#         spikes_realigned = spikes_realigned_new\n",
    "        \n",
    "        \n",
    "#     # make figure\n",
    "#     if ax is None:\n",
    "#         _, ax = plt.subplots(figsize=figsize)\n",
    "\n",
    "#     # define time range\n",
    "#     t_win = (1/fs)*(np.arange(spikes_realigned[0].shape[0]) - window)\n",
    "#     t_win -= t_win[0]\n",
    "    \n",
    "#     # plot spikes\n",
    "#     for spike in spikes_realigned:\n",
    "#         ax.plot(t_win, spike - np.mean(spike[:round(window/2)]), '-', color=color,\n",
    "#                 alpha=alpha, lw=linewidth)\n",
    "\n",
    "#     # ---------------------------------------\n",
    "#     # axis formatting\n",
    "\n",
    "#     # set x limits\n",
    "#     if xlim is None:\n",
    "#         xmin = t_win[0]\n",
    "#         xmax = t_win[-1]\n",
    "        \n",
    "#     ax.set_xlim([xmin, xmax])\n",
    "\n",
    "#     if ylim is not None:\n",
    "#        ax.set_ylim(ylim)\n",
    "        \n",
    "#     # add scalebar\n",
    "#     ax.spines['bottom'].set_bounds([xmin, xmin + scalebar_size])\n",
    "#     ax.spines['bottom'].set_linewidth(scalebar_linewidth)\n",
    "#     ax.spines['bottom'].set_position(('outward', 3))\n",
    "    \n",
    "#     # label scalebar\n",
    "#     if (scalebar_size < 1) and (time_units == 's'):\n",
    "#         # switch  to milliseconds if we're using small values\n",
    "#         scalebar_label_val = round(1000*scalebar_size)\n",
    "#         scalebar_label = f'{scalebar_label_val} ms'\n",
    "#     else:\n",
    "#         scalebar_label = f'{scalebar_size} {time_units}'\n",
    "\n",
    "#     ax.set_xticks([scalebar_size/2])\n",
    "#     ax.set_xticklabels([scalebar_label])  # , fontsize='small')\n",
    "#     ax.tick_params(length=0)\n",
    "\n",
    "#     # remove y ticks\n",
    "#     ax.set_yticks([])\n",
    "    \n",
    "#     # remove other axis lines\n",
    "#     for spine in ['right', 'top', 'left']:\n",
    "#         ax.spines[spine].set_visible(False)\n",
    "    \n",
    "#     return ax \n"
   ]
  },
  {
   "cell_type": "code",
   "execution_count": 35,
   "id": "33a03a59-c939-4aea-bf5e-cb8d762ef53a",
   "metadata": {},
   "outputs": [],
   "source": [
    "# def make_waveform_figure(data_folder, axo_num, scalebar_size=0.02, figsize=(2,4), save_flag=False, \n",
    "#                           save_str='', save_ext='.svg', ylim=None, line_color='k', rm_flag=False):\n",
    "#     \"\"\"\n",
    "#     Wrapper to make emg trace figure\n",
    "#     \"\"\"\n",
    "#     # load data\n",
    "#     data = load_processed_data(data_folder, axo_num)\n",
    "    \n",
    "#     # make figure\n",
    "#     fig, ax = plt.subplots(figsize=figsize)\n",
    "#     ax = plot_emg_waveform(data, ax=ax, scalebar_size=scalebar_size, ylim=ylim, line_color=line_color,\n",
    "#                           rm_flag=rm_flag)\n",
    "    \n",
    "#     # save?\n",
    "#     if save_flag:\n",
    "#         # make the filename of the figure reflect which data file it's from\n",
    "#         save_filename = f'{save_str}_{data_folder}_{axo_num:02d}{save_ext}'\n",
    "    \n",
    "#         # save\n",
    "#         fig.savefig(os.path.join(save_path, save_filename), dpi=save_dpi, bbox_inches='tight')\n",
    "\n",
    "#     return fig, ax\n",
    "    "
   ]
  },
  {
   "cell_type": "code",
   "execution_count": 1,
   "id": "9c7bf46f-86cc-4ee0-bf65-e9bada0ad913",
   "metadata": {},
   "outputs": [],
   "source": [
    "# # example female mosquito\n",
    "# # load\n",
    "# data_folder = mosquito_female_folder\n",
    "# axo_num = mosquito_female_axo \n",
    "\n",
    "# fig, ax = make_waveform_figure(data_folder, axo_num,\n",
    "#                                 scalebar_size=waveform_scalebar_size, \n",
    "#                                 figsize=waveform_figsize, \n",
    "#                                 save_flag=save_waveform_flag, \n",
    "#                                 save_str=waveform_save_str, \n",
    "#                                 save_ext=save_ext_waveform,\n",
    "#                                 ylim=mosquito_female_ylim,\n",
    "#                                 line_color=mosquito_female_color)\n"
   ]
  },
  {
   "cell_type": "code",
   "execution_count": 2,
   "id": "f0ad0484-105a-4f01-88c6-fcd0b25af5b2",
   "metadata": {},
   "outputs": [],
   "source": [
    "# # example male mosquito\n",
    "# # load\n",
    "# data_folder = mosquito_male_folder\n",
    "# axo_num = mosquito_male_axo \n",
    "\n",
    "\n",
    "# fig, ax = make_waveform_figure(data_folder, axo_num,\n",
    "#                                 scalebar_size=waveform_scalebar_size, \n",
    "#                                 figsize=waveform_figsize, \n",
    "#                                 save_flag=save_waveform_flag, \n",
    "#                                 save_str=waveform_save_str, \n",
    "#                                 save_ext=save_ext_waveform,\n",
    "#                                 ylim=mosquito_male_ylim,\n",
    "#                                 line_color=mosquito_male_color,\n",
    "#                                rm_flag=True)"
   ]
  },
  {
   "cell_type": "code",
   "execution_count": 3,
   "id": "22589750-163d-4ca6-bc41-69e59312caae",
   "metadata": {},
   "outputs": [],
   "source": [
    "# # example drosophila\n",
    "# # load\n",
    "# data_folder = drosophila_folder\n",
    "# axo_num = drosophila_axo \n",
    "\n",
    "# fig, ax = make_waveform_figure(data_folder, axo_num,\n",
    "#                                 scalebar_size=waveform_scalebar_size, \n",
    "#                                 figsize=waveform_figsize, \n",
    "#                                 save_flag=save_waveform_flag, \n",
    "#                                 save_str=waveform_save_str, \n",
    "#                                 save_ext=save_ext_waveform,\n",
    "#                                 ylim=drosophila_ylim,\n",
    "#                                 line_color=drosophila_color)"
   ]
  },
  {
   "cell_type": "code",
   "execution_count": null,
   "id": "65444f01-9eab-4223-94b1-38e9c8fd2f78",
   "metadata": {},
   "outputs": [],
   "source": []
  },
  {
   "cell_type": "code",
   "execution_count": null,
   "id": "800e97bf-0993-45a9-a4bf-28d78aad214e",
   "metadata": {},
   "outputs": [],
   "source": []
  }
 ],
 "metadata": {
  "kernelspec": {
   "display_name": "Python 3 (ipykernel)",
   "language": "python",
   "name": "python3"
  },
  "language_info": {
   "codemirror_mode": {
    "name": "ipython",
    "version": 3
   },
   "file_extension": ".py",
   "mimetype": "text/x-python",
   "name": "python",
   "nbconvert_exporter": "python",
   "pygments_lexer": "ipython3",
   "version": "3.12.5"
  }
 },
 "nbformat": 4,
 "nbformat_minor": 5
}
